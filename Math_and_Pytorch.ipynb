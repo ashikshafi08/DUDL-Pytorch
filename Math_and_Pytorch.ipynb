{
  "nbformat": 4,
  "nbformat_minor": 0,
  "metadata": {
    "colab": {
      "name": "Math_and_Pytorch.ipynb",
      "provenance": [],
      "authorship_tag": "ABX9TyOFZWcNY0kf+tQctRUACFK9",
      "include_colab_link": true
    },
    "kernelspec": {
      "name": "python3",
      "display_name": "Python 3"
    },
    "language_info": {
      "name": "python"
    }
  },
  "cells": [
    {
      "cell_type": "markdown",
      "metadata": {
        "id": "view-in-github",
        "colab_type": "text"
      },
      "source": [
        "<a href=\"https://colab.research.google.com/github/ashikshafi08/DUDL-Pytorch/blob/main/Math_and_Pytorch.ipynb\" target=\"_parent\"><img src=\"https://colab.research.google.com/assets/colab-badge.svg\" alt=\"Open In Colab\"/></a>"
      ]
    },
    {
      "cell_type": "code",
      "execution_count": 1,
      "metadata": {
        "id": "bokeZm4K5U1B"
      },
      "outputs": [],
      "source": [
        "import numpy as np \n",
        "import torch "
      ]
    },
    {
      "cell_type": "markdown",
      "source": [
        "### Transposing a vector \n",
        "\n",
        "**Numpy**"
      ],
      "metadata": {
        "id": "DUPcssxc3_if"
      }
    },
    {
      "cell_type": "code",
      "source": [
        "# Using numpy \n",
        "\n",
        "nv = np.array([[1,2,3,4]])\n",
        "\n",
        "\n",
        "nM = np.array([ [1,2,3,4] , \n",
        "               [5,6,7,8]])\n",
        "print(nv)\n",
        "print('\\n')\n",
        "print(nM)"
      ],
      "metadata": {
        "colab": {
          "base_uri": "https://localhost:8080/"
        },
        "id": "62SyDbes3t0_",
        "outputId": "f260754b-e419-46d3-c47d-77e2466bc506"
      },
      "execution_count": 2,
      "outputs": [
        {
          "output_type": "stream",
          "name": "stdout",
          "text": [
            "[[1 2 3 4]]\n",
            "\n",
            "\n",
            "[[1 2 3 4]\n",
            " [5 6 7 8]]\n"
          ]
        }
      ]
    },
    {
      "cell_type": "code",
      "source": [
        "# Transposing it \n",
        "print(nv.T)\n",
        "print('\\n')\n",
        "print(nM.T)"
      ],
      "metadata": {
        "colab": {
          "base_uri": "https://localhost:8080/"
        },
        "id": "4TUufdDH3zmJ",
        "outputId": "28837247-1800-4471-d374-f18d8b9382e4"
      },
      "execution_count": 3,
      "outputs": [
        {
          "output_type": "stream",
          "name": "stdout",
          "text": [
            "[[1]\n",
            " [2]\n",
            " [3]\n",
            " [4]]\n",
            "\n",
            "\n",
            "[[1 5]\n",
            " [2 6]\n",
            " [3 7]\n",
            " [4 8]]\n"
          ]
        }
      ]
    },
    {
      "cell_type": "code",
      "source": [
        "# Transpose the transpose \n",
        "print((nv.T).T)\n",
        "print('\\n')\n",
        "print((nM.T).T)"
      ],
      "metadata": {
        "colab": {
          "base_uri": "https://localhost:8080/"
        },
        "id": "SKMfBGmQ32WX",
        "outputId": "f2422eeb-804e-48ac-f125-d13ec2108bda"
      },
      "execution_count": 4,
      "outputs": [
        {
          "output_type": "stream",
          "name": "stdout",
          "text": [
            "[[1 2 3 4]]\n",
            "\n",
            "\n",
            "[[1 2 3 4]\n",
            " [5 6 7 8]]\n"
          ]
        }
      ]
    },
    {
      "cell_type": "markdown",
      "source": [
        "**Pytorch**"
      ],
      "metadata": {
        "id": "b4qs0JE538Yl"
      }
    },
    {
      "cell_type": "code",
      "source": [
        "# Create a vector \n",
        "tv = torch.tensor([[1,2,3,4]])\n",
        "tM = torch.tensor([ [1,2,3,4] , \n",
        "                   [5,6,7,8]])\n",
        "\n",
        "print(tv)\n",
        "print('\\n')\n",
        "print(tM)"
      ],
      "metadata": {
        "colab": {
          "base_uri": "https://localhost:8080/"
        },
        "id": "nFj11Zi24Gq3",
        "outputId": "1f6cac8e-5da3-4b00-cedb-f56709d115c2"
      },
      "execution_count": 5,
      "outputs": [
        {
          "output_type": "stream",
          "name": "stdout",
          "text": [
            "tensor([[1, 2, 3, 4]])\n",
            "\n",
            "\n",
            "tensor([[1, 2, 3, 4],\n",
            "        [5, 6, 7, 8]])\n"
          ]
        }
      ]
    },
    {
      "cell_type": "code",
      "source": [
        "# Transposing it (same way)\n",
        "print(tv.T)\n",
        "print('\\n')\n",
        "print(tM.T)"
      ],
      "metadata": {
        "colab": {
          "base_uri": "https://localhost:8080/"
        },
        "id": "5kncBGea5O42",
        "outputId": "3bc0eee2-c68b-4f7b-a266-076e84a3bb56"
      },
      "execution_count": 6,
      "outputs": [
        {
          "output_type": "stream",
          "name": "stdout",
          "text": [
            "tensor([[1],\n",
            "        [2],\n",
            "        [3],\n",
            "        [4]])\n",
            "\n",
            "\n",
            "tensor([[1, 5],\n",
            "        [2, 6],\n",
            "        [3, 7],\n",
            "        [4, 8]])\n"
          ]
        }
      ]
    },
    {
      "cell_type": "markdown",
      "source": [
        "### Dot Product \n",
        "\n",
        "**Numpy**"
      ],
      "metadata": {
        "id": "cll9-V8B5Yaw"
      }
    },
    {
      "cell_type": "code",
      "source": [
        "# Create a vector \n",
        "nv1 = np.array([1,2,3,4])\n",
        "nv2 = np.array([0,1,0,1])\n",
        "\n",
        "# Dot product via the numpy function \n",
        "print(np.dot(nv1 , nv2))\n",
        "\n",
        "# Dot product by the mathematical definition using the summation \n",
        "sum_func = np.sum(nv1 * nv2)\n",
        "print(sum_func)"
      ],
      "metadata": {
        "colab": {
          "base_uri": "https://localhost:8080/"
        },
        "id": "-5XCjywMXWz3",
        "outputId": "bb330fde-44b0-401d-885d-d9dcd57a2604"
      },
      "execution_count": 7,
      "outputs": [
        {
          "output_type": "stream",
          "name": "stdout",
          "text": [
            "6\n",
            "6\n"
          ]
        }
      ]
    },
    {
      "cell_type": "markdown",
      "source": [
        "**Pytorch**"
      ],
      "metadata": {
        "id": "qbSZ3QaLX0Lw"
      }
    },
    {
      "cell_type": "code",
      "source": [
        "# Create a vector \n",
        "tv1 = torch.tensor([1,2,3,4])\n",
        "tv2 = torch.tensor([0,1,0,1])\n",
        "\n",
        "# Dot product via the function \n",
        "print(torch.dot(tv1 , tv2))\n",
        "\n",
        "# Dot product via the computation (mathematical definition)\n",
        "print(torch.sum(tv1 * tv2))"
      ],
      "metadata": {
        "colab": {
          "base_uri": "https://localhost:8080/"
        },
        "id": "XDl-U44ZX6HI",
        "outputId": "7c60e040-9224-47a6-f05c-18a1b763387e"
      },
      "execution_count": 8,
      "outputs": [
        {
          "output_type": "stream",
          "name": "stdout",
          "text": [
            "tensor(6)\n",
            "tensor(6)\n"
          ]
        }
      ]
    },
    {
      "cell_type": "markdown",
      "source": [
        "### Matrix Multiplication"
      ],
      "metadata": {
        "id": "HEJIt5WpYMVo"
      }
    },
    {
      "cell_type": "markdown",
      "source": [
        "**Numpy**"
      ],
      "metadata": {
        "id": "au-vyD45hDhx"
      }
    },
    {
      "cell_type": "code",
      "source": [
        "# Create random matriices \n",
        "np.random.seed(42)\n",
        "\n",
        "A = np.random.randn(3,4)\n",
        "B = np.random.randn(4,5)\n",
        "C = np.random.randn(3,7)\n",
        "\n",
        "# Using the python notation \n",
        "print(np.round(A@B))\n",
        "print('\\n')\n",
        "print(np.round(np.matmul(A, B)))\n",
        "\n",
        "print('\\n')\n",
        "# By the transpose \n",
        "print(np.round(C.T@A))\n",
        "print('\\n')\n",
        "print(np.round(np.matmul(C.T , A)))"
      ],
      "metadata": {
        "colab": {
          "base_uri": "https://localhost:8080/"
        },
        "id": "EHh1oEHXfzsT",
        "outputId": "c5a8d9e9-5a44-42b5-8d7b-775c05aeb8c8"
      },
      "execution_count": 9,
      "outputs": [
        {
          "output_type": "stream",
          "name": "stdout",
          "text": [
            "[[ 1. -3. -1. -1.  2.]\n",
            " [ 0. -2. -0. -0. -0.]\n",
            " [-0.  1.  0.  1.  0.]]\n",
            "\n",
            "\n",
            "[[ 1. -3. -1. -1.  2.]\n",
            " [ 0. -2. -0. -0. -0.]\n",
            " [-0.  1.  0.  1.  0.]]\n",
            "\n",
            "\n",
            "[[ 0. -0.  1.  0.]\n",
            " [-1.  1. -0. -2.]\n",
            " [ 0.  0.  1.  1.]\n",
            " [ 0. -1. -0. -1.]\n",
            " [ 0.  0. -0. -0.]\n",
            " [-0.  0. -3. -4.]\n",
            " [-0. -0. -2. -2.]]\n",
            "\n",
            "\n",
            "[[ 0. -0.  1.  0.]\n",
            " [-1.  1. -0. -2.]\n",
            " [ 0.  0.  1.  1.]\n",
            " [ 0. -1. -0. -1.]\n",
            " [ 0.  0. -0. -0.]\n",
            " [-0.  0. -3. -4.]\n",
            " [-0. -0. -2. -2.]]\n"
          ]
        }
      ]
    },
    {
      "cell_type": "markdown",
      "source": [
        "**Pytorch**"
      ],
      "metadata": {
        "id": "zi26UwqwgXin"
      }
    },
    {
      "cell_type": "code",
      "source": [
        "# Create random tensors \n",
        "A = torch.randn(3, 4)\n",
        "B = torch.randn(4,5)\n",
        "C1 = np.random.randn(4 , 7)\n",
        "C2 = torch.tensor(C1 , dtype = torch.float)\n",
        "\n",
        "# Trying out some matrix multiplication \n",
        "print(np.round(A@B))\n",
        "print('\\n')\n",
        "print(np.round(torch.matmul(A,B)))\n",
        "print('\\n')\n",
        "\n",
        "# Numpy x Pytorch \n",
        "print(np.round(A@C1))"
      ],
      "metadata": {
        "colab": {
          "base_uri": "https://localhost:8080/"
        },
        "id": "o3CGBi5QhKI1",
        "outputId": "62670c08-d078-48a0-b854-db12c5a42741"
      },
      "execution_count": 10,
      "outputs": [
        {
          "output_type": "stream",
          "name": "stdout",
          "text": [
            "tensor([[ 2.,  2., -3.,  2.,  0.],\n",
            "        [ 2.,  4., -0.,  1., -0.],\n",
            "        [ 0.,  2., -1., -1.,  0.]])\n",
            "\n",
            "\n",
            "tensor([[ 2.,  2., -3.,  2.,  0.],\n",
            "        [ 2.,  4., -0.,  1., -0.],\n",
            "        [ 0.,  2., -1., -1.,  0.]])\n",
            "\n",
            "\n",
            "tensor([[ 4., -2.,  2.,  3., -2.,  0., -1.],\n",
            "        [-1.,  1.,  4.,  1., -4., -2., -2.],\n",
            "        [-1., -1., -0., -0., -1.,  0., -2.]], dtype=torch.float64)\n"
          ]
        }
      ]
    },
    {
      "cell_type": "markdown",
      "source": [
        "\n",
        "### Softmax \n",
        "\n",
        "**Numpy**"
      ],
      "metadata": {
        "id": "Br2_IFXMhnk9"
      }
    },
    {
      "cell_type": "code",
      "source": [
        "# Manaually in Numpy \n",
        "\n",
        "\n",
        "# List of numbers \n",
        "z = [1,2,3] \n",
        "\n",
        "# Compute the softmax result \n",
        "num = np.exp(z)\n",
        "den = np.sum(np.exp(z))\n",
        "sigma = num / den \n",
        "\n",
        "print(sigma)"
      ],
      "metadata": {
        "colab": {
          "base_uri": "https://localhost:8080/"
        },
        "id": "VC13DnFhIJay",
        "outputId": "5b4dc6bd-8eee-4c1b-a5b1-e9036dbda3c2"
      },
      "execution_count": 11,
      "outputs": [
        {
          "output_type": "stream",
          "name": "stdout",
          "text": [
            "[0.09003057 0.24472847 0.66524096]\n"
          ]
        }
      ]
    },
    {
      "cell_type": "code",
      "source": [
        "# Repeat the same with random integers \n",
        "import matplotlib.pyplot as plt\n",
        "\n",
        "\n",
        "z = np.random.randint(low = - 5 , high = 5 , size = 25)\n",
        "\n",
        "# Compute the softmax result  \n",
        "num = np.exp(z)\n",
        "den = np.sum(num)\n",
        "sigma = num / den \n",
        "\n",
        "# Compare \n",
        "plt.plot(z , sigma , 'ko')\n",
        "plt.xlabel('Original number (z)')\n",
        "plt.ylabel('Softmaxified $\\sigma$')\n",
        "plt.title('$\\sum\\sigma$ = %g' %np.sum(sigma))\n",
        "plt.show()"
      ],
      "metadata": {
        "colab": {
          "base_uri": "https://localhost:8080/",
          "height": 0
        },
        "id": "jueluRSAJk-G",
        "outputId": "d0f3cbdb-bc35-4171-c517-e6b9bf7cb254"
      },
      "execution_count": 12,
      "outputs": [
        {
          "output_type": "display_data",
          "data": {
            "image/png": "[encoded data removed]",
            "text/plain": [
              "<Figure size 432x288 with 1 Axes>"
            ]
          },
          "metadata": {
            "needs_background": "light"
          }
        }
      ]
    },
    {
      "cell_type": "markdown",
      "source": [
        "**Pytorch**\n",
        "\n",
        "- https://stackoverflow.com/questions/51911749/what-is-the-difference-between-torch-tensor-and-torch-tensor"
      ],
      "metadata": {
        "id": "vFgwDiZnJ_Xh"
      }
    },
    {
      "cell_type": "code",
      "source": [
        "import torch \n",
        "import torch.nn as nn"
      ],
      "metadata": {
        "id": "Z80VeukuK_2b"
      },
      "execution_count": 13,
      "outputs": []
    },
    {
      "cell_type": "code",
      "source": [
        "# Create an instance of the softmax activation class \n",
        "softfun = nn.Softmax(dim = 0)\n",
        "\n",
        "# Applying this to our variable z \n",
        "sigmaT = softfun((torch.Tensor(z)))\n",
        "\n",
        "print(sigmaT)"
      ],
      "metadata": {
        "colab": {
          "base_uri": "https://localhost:8080/"
        },
        "id": "gsGYN2hSLH7h",
        "outputId": "07e8c1fd-39d1-4e2e-a046-80c19ae12c39"
      },
      "execution_count": 14,
      "outputs": [
        {
          "output_type": "stream",
          "name": "stdout",
          "text": [
            "tensor([5.3731e-04, 1.0792e-02, 1.9766e-04, 3.9702e-03, 7.2717e-05, 2.1677e-01,\n",
            "        7.9743e-02, 1.4606e-03, 3.9702e-03, 5.3731e-04, 2.1677e-01, 1.0792e-02,\n",
            "        7.9743e-02, 1.0792e-02, 2.6751e-05, 2.6751e-05, 7.9743e-02, 7.9743e-02,\n",
            "        5.3731e-04, 7.9743e-02, 1.9766e-04, 1.0792e-02, 3.9702e-03, 2.9336e-02,\n",
            "        7.9743e-02])\n"
          ]
        }
      ]
    },
    {
      "cell_type": "code",
      "source": [
        "torch.sum(sigmaT)"
      ],
      "metadata": {
        "colab": {
          "base_uri": "https://localhost:8080/"
        },
        "id": "ak-3CI3wMKZ3",
        "outputId": "d496c085-5246-45ef-d741-d47473b82ae0"
      },
      "execution_count": 15,
      "outputs": [
        {
          "output_type": "execute_result",
          "data": {
            "text/plain": [
              "tensor(1.)"
            ]
          },
          "metadata": {},
          "execution_count": 15
        }
      ]
    },
    {
      "cell_type": "markdown",
      "source": [
        "\n",
        "### Logarithm \n",
        "\n",
        "**Numpy**"
      ],
      "metadata": {
        "id": "TqVwmi8uMQ09"
      }
    },
    {
      "cell_type": "code",
      "source": [
        "# Define a set of points to evaluate \n",
        "x = np.linspace(.0001 , 1 , 200)\n",
        "\n",
        "# Compute their log \n",
        "logx = np.log(x)\n",
        "\n",
        "# Plot \n",
        "fig = plt.figure(figsize = (10 , 4))\n",
        "plt.rcParams.update({'font.size': 15})\n",
        "plt.plot(x , logx , 'ks-' , markerfacecolor = 'w')\n",
        "plt.xlabel('x')\n",
        "plt.ylabel('log(x)')\n",
        "plt.show()"
      ],
      "metadata": {
        "colab": {
          "base_uri": "https://localhost:8080/",
          "height": 0
        },
        "id": "WpRLEhFfSqaL",
        "outputId": "5c03e56e-3329-4ee1-9439-283a230f36cb"
      },
      "execution_count": 16,
      "outputs": [
        {
          "output_type": "display_data",
          "data": {
            "image/png": "[encoded data removed]",
            "text/plain": [
              "<Figure size 720x288 with 1 Axes>"
            ]
          },
          "metadata": {
            "needs_background": "light"
          }
        }
      ]
    },
    {
      "cell_type": "markdown",
      "source": [
        "Below code explains how natural log and natural exponents being inverse of eachother. "
      ],
      "metadata": {
        "id": "sQbA9xAKSwsg"
      }
    },
    {
      "cell_type": "code",
      "source": [
        "# Fewer points \n",
        "\n",
        "X = np.linspace(.0001 , 1, 20)\n",
        "\n",
        "# Log and exp (Natural)\n",
        "logx = np.log(X)\n",
        "expx = np.exp(X)\n",
        "\n",
        "# Plotting \n",
        "plt.plot(X , X , color = [.8 , .8 , .8])\n",
        "plt.plot(X , np.exp(logx) , 'o' , markersize = 8)\n",
        "plt.plot(X , np.log(expx) , 'x' , markersize = 8)\n",
        "plt.xlabel('X')\n",
        "plt.ylabel('f(g(x))')\n",
        "plt.legend(['unity' , 'exp(log(x))' , 'log(exp(x))'])\n",
        "plt.show()"
      ],
      "metadata": {
        "colab": {
          "base_uri": "https://localhost:8080/",
          "height": 0
        },
        "id": "CpQqoRzcTjMP",
        "outputId": "20c04d85-a15a-4079-eea1-51e857dde22c"
      },
      "execution_count": 17,
      "outputs": [
        {
          "output_type": "display_data",
          "data": {
            "image/png": "[encoded data removed]",
            "text/plain": [
              "<Figure size 432x288 with 1 Axes>"
            ]
          },
          "metadata": {
            "needs_background": "light"
          }
        }
      ]
    },
    {
      "cell_type": "markdown",
      "source": [
        "### Entropy and Cross-Entropy \n",
        "\n",
        "**Numpy**"
      ],
      "metadata": {
        "id": "9jvBjRRhUMrc"
      }
    },
    {
      "cell_type": "code",
      "source": [
        "# Probability of an event happening \n",
        "p = .25\n",
        "\n",
        "# Not the correct formula \n",
        "H = -(p*np.log(p))\n"
      ],
      "metadata": {
        "id": "ExXin01xm4Il"
      },
      "execution_count": 18,
      "outputs": []
    },
    {
      "cell_type": "code",
      "source": [
        ""
      ],
      "metadata": {
        "id": "zNMTh3kKnlFG"
      },
      "execution_count": 18,
      "outputs": []
    },
    {
      "cell_type": "markdown",
      "source": [
        "The above is incorrect because here we discussed only the probability of an event that is only going to happen but we didn't imply the proability of an event that ain't gonna happen. \n",
        "\n",
        "```\n",
        "p = some_value \n",
        "q = 1 - p\n",
        "```"
      ],
      "metadata": {
        "id": "GE22bb3unKF3"
      }
    },
    {
      "cell_type": "code",
      "source": [
        "# The correct way to compute entropy \n",
        "x = [.25 , .75]\n",
        "\n",
        "H = 0 \n",
        "for p in x:\n",
        "  H -= p*np.log(p)\n",
        "  print(H)"
      ],
      "metadata": {
        "colab": {
          "base_uri": "https://localhost:8080/"
        },
        "id": "so-_-efynzYl",
        "outputId": "d0f872f9-f33f-49f2-b72f-3276fac61ff4"
      },
      "execution_count": 19,
      "outputs": [
        {
          "output_type": "stream",
          "name": "stdout",
          "text": [
            "0.34657359027997264\n",
            "0.5623351446188083\n"
          ]
        }
      ]
    },
    {
      "cell_type": "code",
      "source": [
        "# Same but the more appropriate format \n",
        "# Its called binary entropy\n",
        "H = -(p*np.log(p) + (1-p)*np.log(1-p))\n",
        "print(H)"
      ],
      "metadata": {
        "colab": {
          "base_uri": "https://localhost:8080/"
        },
        "id": "Me0mI5vCn_2P",
        "outputId": "0e05bbb8-c573-4e54-e5ca-c3ec8bb9aabc"
      },
      "execution_count": 20,
      "outputs": [
        {
          "output_type": "stream",
          "name": "stdout",
          "text": [
            "0.5623351446188083\n"
          ]
        }
      ]
    },
    {
      "cell_type": "markdown",
      "source": [
        "#### Cross Entropy"
      ],
      "metadata": {
        "id": "GLvt8xO1oetX"
      }
    },
    {
      "cell_type": "code",
      "source": [
        "# Note: all probs must sum to 1 \n",
        "p = [1 , 0] # Sum = 1 \n",
        "q = [.25 , .75] # sum = 1\n",
        "\n",
        "\n",
        "H = 0 \n",
        "for i in range(len(p)):\n",
        "  H -= p[i]*np.log(q[i])\n",
        "  print(H)\n",
        "\n",
        "print(H)"
      ],
      "metadata": {
        "colab": {
          "base_uri": "https://localhost:8080/"
        },
        "id": "SbaYybVho1VE",
        "outputId": "b481ed43-7313-4fba-8b9b-6be1460d92e8"
      },
      "execution_count": 21,
      "outputs": [
        {
          "output_type": "stream",
          "name": "stdout",
          "text": [
            "1.3862943611198906\n",
            "1.3862943611198906\n",
            "1.3862943611198906\n"
          ]
        }
      ]
    },
    {
      "cell_type": "code",
      "source": [
        "# The more appropriate form \n",
        "H = -(p[0]*np.log(q[0]) + p[1]*np.log(q[1]))\n",
        "print(H)\n",
        "\n",
        "# The more simplified form \n",
        "H_ = -np.log(q[0])\n",
        "print(H_)"
      ],
      "metadata": {
        "colab": {
          "base_uri": "https://localhost:8080/"
        },
        "id": "OFFy8-zppX1l",
        "outputId": "75a4781b-5fba-4134-e9fe-8ec6b88ca081"
      },
      "execution_count": 22,
      "outputs": [
        {
          "output_type": "stream",
          "name": "stdout",
          "text": [
            "1.3862943611198906\n",
            "1.3862943611198906\n"
          ]
        }
      ]
    },
    {
      "cell_type": "markdown",
      "source": [
        "**Pytorch**"
      ],
      "metadata": {
        "id": "yxvdFsrIp5-J"
      }
    },
    {
      "cell_type": "code",
      "source": [
        "# Now usiing pytorch\n",
        "import torch \n",
        "import torch.nn.functional as F \n",
        "\n",
        "# Input must be tensors \n",
        "p_tensor = torch.Tensor(p)\n",
        "q_tensor = torch.Tensor(q)\n",
        "\n",
        "# Two possible outcomes yes or no (thats why binary cross entropy)\n",
        "# Here first comes the model's output and then our prob input\n",
        "F.binary_cross_entropy(q_tensor , p_tensor)"
      ],
      "metadata": {
        "colab": {
          "base_uri": "https://localhost:8080/"
        },
        "id": "bLFWXXcOqt45",
        "outputId": "e9c09552-db3a-4e6a-85d7-1724bda50d0c"
      },
      "execution_count": 23,
      "outputs": [
        {
          "output_type": "execute_result",
          "data": {
            "text/plain": [
              "tensor(1.3863)"
            ]
          },
          "metadata": {},
          "execution_count": 23
        }
      ]
    },
    {
      "cell_type": "markdown",
      "source": [
        "### Min/Max (Argmax and Argmin) \n",
        "\n",
        "**Numpy**"
      ],
      "metadata": {
        "id": "RQzdXy3prXAT"
      }
    },
    {
      "cell_type": "code",
      "source": [
        "v = np.array([1 , 40 , 2 , -3])\n",
        "\n",
        "# Find and report the maximum and minimum values \n",
        "minval = np.min(v)\n",
        "maxval = np.max(v)\n",
        "\n",
        "# Argmin and Argmax \n",
        "minidx = np.argmin(v)\n",
        "maxidx = np.argmax(v)\n",
        "\n",
        "print(minidx , maxidx)"
      ],
      "metadata": {
        "colab": {
          "base_uri": "https://localhost:8080/"
        },
        "id": "Tw3I9OS1FhWZ",
        "outputId": "85ca6915-c8ac-4527-c4c5-eeb42ae49d87"
      },
      "execution_count": 24,
      "outputs": [
        {
          "output_type": "stream",
          "name": "stdout",
          "text": [
            "3 1\n"
          ]
        }
      ]
    },
    {
      "cell_type": "code",
      "source": [
        "# On a matrix \n",
        "\n",
        "N = np.array([[0 , 1 ,10] , \n",
        "              [20 , 8 ,5]])\n",
        "print(f'\\n{N}\\n')"
      ],
      "metadata": {
        "colab": {
          "base_uri": "https://localhost:8080/"
        },
        "id": "Hm69-hgaGQEZ",
        "outputId": "1a059e69-7595-40c7-e1fb-fcf7e6ddd6ab"
      },
      "execution_count": 25,
      "outputs": [
        {
          "output_type": "stream",
          "name": "stdout",
          "text": [
            "\n",
            "[[ 0  1 10]\n",
            " [20  8  5]]\n",
            "\n"
          ]
        }
      ]
    },
    {
      "cell_type": "code",
      "source": [
        "# Various minima in the matrix (whole , columns and rows)\n",
        "min_1 = np.min(N)\n",
        "min_2 = np.min(N , axis= 1) # Minimum of each rows (across columns)\n",
        "min_3 = np.min(N , axis = 0) # minimum of each columns (across rows)\n",
        "\n",
        "print(min_1)\n",
        "print(min_2)\n",
        "print(min_3)"
      ],
      "metadata": {
        "colab": {
          "base_uri": "https://localhost:8080/"
        },
        "id": "uXaVlpS_G7Di",
        "outputId": "86a830c9-b7b2-426e-9ffe-abe3332d38d5"
      },
      "execution_count": 26,
      "outputs": [
        {
          "output_type": "stream",
          "name": "stdout",
          "text": [
            "0\n",
            "[0 5]\n",
            "[0 1 5]\n"
          ]
        }
      ]
    },
    {
      "cell_type": "code",
      "source": [
        "# Now the argmax which gives us the index \n",
        "minidx1 = np.argmin(N)\n",
        "minidx2 = np.argmin(N , axis = 0) # # Minimum of each column (across rows)\n",
        "minidx3 = np.argmin(N , axis = 1) # Minimum of each rows (across columns)\n",
        "\n",
        "print(minidx1)\n",
        "print(minidx2)\n",
        "print(minidx3)"
      ],
      "metadata": {
        "colab": {
          "base_uri": "https://localhost:8080/"
        },
        "id": "NuOzIUI4H2qM",
        "outputId": "9fb92317-02db-43c8-a590-a7f7cf73eb83"
      },
      "execution_count": 27,
      "outputs": [
        {
          "output_type": "stream",
          "name": "stdout",
          "text": [
            "0\n",
            "[0 0 1]\n",
            "[0 2]\n"
          ]
        }
      ]
    },
    {
      "cell_type": "markdown",
      "source": [
        "**Pytorch**\n",
        "\n"
      ],
      "metadata": {
        "id": "zj-veBdBIb4A"
      }
    },
    {
      "cell_type": "code",
      "source": [
        "# Create a vector \n",
        "v = torch.tensor([1 , 40 , 2 ,-3])\n",
        "\n",
        "# Find and report the maximum and minimum values \n",
        "minval = torch.min(v)\n",
        "maxval = torch.max(v)\n",
        "\n",
        "# Now for the argmax and argmin \n",
        "minidx = torch.argmin(v)\n",
        "maxidx = torch.argmax(v)\n",
        "\n",
        "print(minidx , maxidx)"
      ],
      "metadata": {
        "colab": {
          "base_uri": "https://localhost:8080/"
        },
        "id": "hwmKR2pnIwnE",
        "outputId": "efd96753-a495-4955-fbf4-44e203c92c6f"
      },
      "execution_count": 28,
      "outputs": [
        {
          "output_type": "stream",
          "name": "stdout",
          "text": [
            "tensor(3) tensor(1)\n"
          ]
        }
      ]
    },
    {
      "cell_type": "code",
      "source": [
        "# For a matrix \n",
        "tensor_M = torch.Tensor(N)\n",
        "\n",
        "\n",
        "print(torch.min(tensor_M))\n",
        "print('\\n')\n",
        "print(torch.min(tensor_M, axis = 1).values) # across columns \n",
        "print('\\n')\n",
        "print(torch.min(tensor_M , axis = 0).values) # across rows \n",
        "print('\\n')\n",
        "\n",
        "\n",
        "print(torch.argmin(tensor_M))\n",
        "print('\\n')\n",
        "print(torch.argmin(tensor_M , axis = 1))\n",
        "print('\\n')\n",
        "print(torch.argmin(tensor_M , axis = 0))\n",
        "print('\\n')"
      ],
      "metadata": {
        "colab": {
          "base_uri": "https://localhost:8080/"
        },
        "id": "vyMhOWhvJIVo",
        "outputId": "553de798-6689-4c4e-acb8-faf2d1b88e58"
      },
      "execution_count": 29,
      "outputs": [
        {
          "output_type": "stream",
          "name": "stdout",
          "text": [
            "tensor(0.)\n",
            "\n",
            "\n",
            "tensor([0., 5.])\n",
            "\n",
            "\n",
            "tensor([0., 1., 5.])\n",
            "\n",
            "\n",
            "tensor(0)\n",
            "\n",
            "\n",
            "tensor([0, 2])\n",
            "\n",
            "\n",
            "tensor([0, 0, 1])\n",
            "\n",
            "\n"
          ]
        }
      ]
    },
    {
      "cell_type": "markdown",
      "source": [
        "### Mean and Variance \n",
        "\n",
        "**Numpy**"
      ],
      "metadata": {
        "id": "IcibS3ZWKFra"
      }
    },
    {
      "cell_type": "code",
      "source": [
        "# Create a list of numbers \n",
        "x = [1,2,3,6,5,4,0]\n",
        "\n",
        "n = len(x)\n",
        "\n",
        "# Compute the mean \n",
        "mean1 = np.mean(x) # by numpy function \n",
        "mean2 = np.sum(x) / n\n",
        "\n",
        "print(mean1)\n",
        "print(mean2)"
      ],
      "metadata": {
        "colab": {
          "base_uri": "https://localhost:8080/"
        },
        "id": "sPgXgzmnq_7m",
        "outputId": "5b343966-e21e-4657-b561-b2f8ebd344a7"
      },
      "execution_count": 30,
      "outputs": [
        {
          "output_type": "stream",
          "name": "stdout",
          "text": [
            "3.0\n",
            "3.0\n"
          ]
        }
      ]
    },
    {
      "cell_type": "code",
      "source": [
        "# Variance \n",
        "\n",
        "var1 = np.var(x)\n",
        "var2 = (1 / (n-1)) * np.sum((x - mean1)**2) # not squaring the diff leads the variance to be 0\n",
        "\n",
        "print(var1)\n",
        "print(var2)"
      ],
      "metadata": {
        "colab": {
          "base_uri": "https://localhost:8080/"
        },
        "id": "_Tizd2OkrdEG",
        "outputId": "599e4d8d-9680-49a0-a2a1-36334569d8c5"
      },
      "execution_count": 31,
      "outputs": [
        {
          "output_type": "stream",
          "name": "stdout",
          "text": [
            "4.0\n",
            "4.666666666666666\n"
          ]
        }
      ]
    },
    {
      "cell_type": "code",
      "source": [
        "# Computing the un-biased variance \n",
        "var3 = np.var(x , ddof = 1) # adding one degree of freedom\n",
        "var3 , var2"
      ],
      "metadata": {
        "colab": {
          "base_uri": "https://localhost:8080/"
        },
        "id": "6H27_dK8rodH",
        "outputId": "e0ff523a-100d-4d46-e410-25de201c2472"
      },
      "execution_count": 32,
      "outputs": [
        {
          "output_type": "execute_result",
          "data": {
            "text/plain": [
              "(4.666666666666667, 4.666666666666666)"
            ]
          },
          "metadata": {},
          "execution_count": 32
        }
      ]
    },
    {
      "cell_type": "code",
      "source": [
        "# For larger dataset? \n",
        "\n",
        "N = 10000 \n",
        "x = np.random.randint(0 , high = 20 , size = N)\n",
        "\n",
        "print(np.var(x , ddof = 0)) # default \n",
        "print(np.var(x , ddof = 1)) # unbiased \n"
      ],
      "metadata": {
        "colab": {
          "base_uri": "https://localhost:8080/"
        },
        "id": "d4uSjwBvtDaG",
        "outputId": "9ee0e585-d98f-4105-9e0c-e34011d3cd43"
      },
      "execution_count": 33,
      "outputs": [
        {
          "output_type": "stream",
          "name": "stdout",
          "text": [
            "33.493105590000006\n",
            "33.496455235523555\n"
          ]
        }
      ]
    },
    {
      "cell_type": "markdown",
      "source": [
        "### Sampling variability and random samples\n",
        "\n",
        "**Numpy**"
      ],
      "metadata": {
        "id": "3R22kFD5tsXF"
      }
    },
    {
      "cell_type": "code",
      "source": [
        "# Create a list of numbers to compute the mean and variance \n",
        "x = [1,2,3,4,6,0,-4,5,-2,6,10,-9,1,3,-6]\n",
        "n = len(x)\n",
        "\n",
        "# Compute the population mean \n",
        "popmean = np.mean(x)\n",
        "\n",
        "# Compute a sample mean (mean of random samples)\n",
        "sample = np.random.choice(x, size = 5 , replace = True)\n",
        "sample_mean = np.mean(sample)\n",
        "\n",
        "print(popmean)\n",
        "print(sample_mean)"
      ],
      "metadata": {
        "colab": {
          "base_uri": "https://localhost:8080/"
        },
        "id": "N3NAsgWqyzKc",
        "outputId": "4a62af88-2405-466f-8d8d-ebeaad700f5d"
      },
      "execution_count": 34,
      "outputs": [
        {
          "output_type": "stream",
          "name": "stdout",
          "text": [
            "1.3333333333333333\n",
            "-0.8\n"
          ]
        }
      ]
    },
    {
      "cell_type": "markdown",
      "source": [
        "In the above, we can see that there is a huge difference between the population mean and the random sample mean. When we are taking a mean of small random samples we are getting non-representative values and this is why we gotta take larger and larger sample. \n",
        "\n",
        "We can fix this by running alots of experiments or compute the lots of sample means"
      ],
      "metadata": {
        "id": "swxFJz1XzLrO"
      }
    },
    {
      "cell_type": "code",
      "source": [
        "# Number of experiments to run \n",
        "nexp = 10000 \n",
        "\n",
        "# Run the experiments \n",
        "sampleMeans = np.zeros(nexp)\n",
        "for i in range(nexp):\n",
        "\n",
        "  # Step 1: draw a sample \n",
        "  sample = np.random.choice(x , size = 5 , replace = True) # try playing with sample size, it will decrease the variability distribution\n",
        "\n",
        "  # Step 2: Compute its mean \n",
        "  sampleMeans[i] = np.mean(sample)\n",
        "\n",
        "# PPlotting the result \n",
        "plt.hist(sampleMeans , bins = 40 , density = True)\n",
        "plt.plot([popmean , popmean] , [0, .3] , 'm--') # Projectile of the true mean we've calculated \n",
        "plt.ylabel('Count')\n",
        "plt.xlabel('Sample mean')\n",
        "plt.show()"
      ],
      "metadata": {
        "colab": {
          "base_uri": "https://localhost:8080/",
          "height": 0
        },
        "id": "G2BBF12Fz6tJ",
        "outputId": "d94bf8a0-c837-4795-93f6-c62545e10067"
      },
      "execution_count": 35,
      "outputs": [
        {
          "output_type": "display_data",
          "data": {
            "image/png": "[encoded data removed]",
            "text/plain": [
              "<Figure size 432x288 with 1 Axes>"
            ]
          },
          "metadata": {
            "needs_background": "light"
          }
        }
      ]
    },
    {
      "cell_type": "markdown",
      "source": [
        "### Randomness annd reproducibility \n",
        "\n"
      ],
      "metadata": {
        "id": "P_2_uM1Y1Ezv"
      }
    },
    {
      "cell_type": "code",
      "source": [
        "# Repeat after fixing the seed (old but still widely used)\n",
        "np.random.seed(17)\n",
        "\n",
        "print(np.random.randn(5))\n",
        "print(np.random.randn(5))"
      ],
      "metadata": {
        "colab": {
          "base_uri": "https://localhost:8080/"
        },
        "id": "aocgDnq9Uxr-",
        "outputId": "296b16bd-3a26-49ad-8b48-456af11931bd"
      },
      "execution_count": 36,
      "outputs": [
        {
          "output_type": "stream",
          "name": "stdout",
          "text": [
            "[ 0.27626589 -1.85462808  0.62390111  1.14531129  1.03719047]\n",
            "[ 1.88663893 -0.11169829 -0.36210134  0.14867505 -0.43778315]\n"
          ]
        }
      ]
    },
    {
      "cell_type": "markdown",
      "source": [
        "There is new seed mechanism in numpy where we instantiate an object and revoke from that. "
      ],
      "metadata": {
        "id": "40oXJ4rmU-py"
      }
    },
    {
      "cell_type": "code",
      "source": [
        "randseed1 = np.random.RandomState(17)\n",
        "randseed2 = np.random.RandomState(20210530)\n",
        "\n",
        "# Same sequence \n",
        "print(randseed1.randn(5)) \n",
        "print(randseed1.randn(5)) \n",
        "# Different from above, but same each time \n",
        "print(randseed2.randn(5))\n",
        "\n",
        "# Different everytime \n",
        "print(np.random.randn(5))\n",
        "\n",
        "# [ 0.27626589 -1.85462808  0.62390111  1.14531129  1.03719047]\n",
        "# [ 1.88663893 -0.11169829 -0.36210134  0.14867505 -0.43778315]\n",
        "# [-0.24972681 -1.01951826  2.23461339  0.72764703  1.2921122 ]\n",
        "# [-1.77528229  1.31487654 -0.47344805 -1.0922299  -0.25002744]"
      ],
      "metadata": {
        "colab": {
          "base_uri": "https://localhost:8080/"
        },
        "id": "j4XfRNgGVKhl",
        "outputId": "cbbb5b7e-0419-4b31-b21f-fc05c8ec83d7"
      },
      "execution_count": 37,
      "outputs": [
        {
          "output_type": "stream",
          "name": "stdout",
          "text": [
            "[ 0.27626589 -1.85462808  0.62390111  1.14531129  1.03719047]\n",
            "[ 1.88663893 -0.11169829 -0.36210134  0.14867505 -0.43778315]\n",
            "[-0.24972681 -1.01951826  2.23461339  0.72764703  1.2921122 ]\n",
            "[ 2.171257    1.15231025 -1.81881234 -0.13804934  0.53983961]\n"
          ]
        }
      ]
    },
    {
      "cell_type": "markdown",
      "source": [
        "**Pytorch**"
      ],
      "metadata": {
        "id": "jUaGA9ubVkhF"
      }
    },
    {
      "cell_type": "code",
      "source": [
        "torch.randn(5)"
      ],
      "metadata": {
        "colab": {
          "base_uri": "https://localhost:8080/"
        },
        "id": "2VoFYkwrWD5e",
        "outputId": "9ba42a68-8bfb-484e-b2e2-3729e06e3c7f"
      },
      "execution_count": 38,
      "outputs": [
        {
          "output_type": "execute_result",
          "data": {
            "text/plain": [
              "tensor([ 1.5181,  0.3149, -0.5154,  0.0334, -1.3449])"
            ]
          },
          "metadata": {},
          "execution_count": 38
        }
      ]
    },
    {
      "cell_type": "code",
      "source": [
        "# With seed \n",
        "torch.manual_seed(17)\n",
        "print(torch.randn(5))\n",
        "\n",
        "# Torch's seed doesn't spread to numpy \n",
        "print(np.random.randn(5))"
      ],
      "metadata": {
        "colab": {
          "base_uri": "https://localhost:8080/"
        },
        "id": "n_qZY1FAWFAL",
        "outputId": "b0eec713-36d4-4996-939a-b43c5ce3edd1"
      },
      "execution_count": 39,
      "outputs": [
        {
          "output_type": "stream",
          "name": "stdout",
          "text": [
            "tensor([-1.4135,  0.2336,  0.0340,  0.3499, -0.0145])\n",
            "[-1.77528229  1.31487654 -0.47344805 -1.0922299  -0.25002744]\n"
          ]
        }
      ]
    },
    {
      "cell_type": "markdown",
      "source": [
        "### t-test"
      ],
      "metadata": {
        "id": "jxPeeM9RWQTt"
      }
    },
    {
      "cell_type": "code",
      "source": [
        "import scipy.stats as stats"
      ],
      "metadata": {
        "id": "jhnr5mojhSca"
      },
      "execution_count": 40,
      "outputs": []
    },
    {
      "cell_type": "code",
      "source": [
        "# Defining the parameters \n",
        "n1 = 30  # samples in dataset 1 \n",
        "n2 = 40 \n",
        "\n",
        "mu1 = 1 # population mean in dataset 1\n",
        "mu2 = 2 # population mean in dataset 2 \n",
        "\n",
        "# Generate the data \n",
        "data1 = mu1 + np.random.randn(n1)\n",
        "data2 = mu2 + np.random.randn(n2)\n",
        "\n",
        "print(data1)\n",
        "print('\\n')\n",
        "print(data2)"
      ],
      "metadata": {
        "colab": {
          "base_uri": "https://localhost:8080/"
        },
        "id": "1rp6geEThV-g",
        "outputId": "6622ef9c-90f4-4041-c9ff-84d18f1dda11"
      },
      "execution_count": 41,
      "outputs": [
        {
          "output_type": "stream",
          "name": "stdout",
          "text": [
            "[ 0.0177057   2.03126909  1.49133378  0.5533534   0.19363992  1.13126776\n",
            " -0.21256024  1.15999085  0.24477696  1.34989599  1.97754176  0.86141475\n",
            "  1.10385631  1.30059104  1.9682053   1.86962384  1.56778309  1.46528234\n",
            " -0.16537308 -1.03599479 -0.15541329  4.34515739  1.12672721  0.3058211\n",
            "  1.55767443  1.0991466   1.63792617  1.70311068  0.08390685  0.21398577]\n",
            "\n",
            "\n",
            "[ 3.1191818   1.01660389  2.24452002  1.41859026  2.4295639   2.79840199\n",
            "  1.38992995  3.18540421  1.28916599  1.21887107  1.76962702  2.12019508\n",
            "  1.21153016 -0.96012262  1.20441888  2.28458225  2.52253728  2.08355444\n",
            "  4.72079559  2.61100788  1.164056    1.99630396  2.39309468  2.68449508\n",
            "  2.77520168  2.55600289  1.4590201   3.52441725  3.20838513  2.05127728\n",
            "  1.57336879  2.80794023  2.05727976  0.95982843  2.93414809  1.87996546\n",
            "  4.20701631 -1.39993078  3.2335289   1.41211916]\n"
          ]
        }
      ]
    },
    {
      "cell_type": "code",
      "source": [
        "# Plotting them \n",
        "plt.plot(np.zeros(n1) , data1 , 'ro' , markerfacecolor = 'w' , markersize = 14)\n",
        "plt.plot(np.ones(n2) , data2 , 'bs' , markerfacecolor = 'w' , markersize = 14)\n",
        "plt.xlim([-1, 2])\n",
        "plt.xticks([0,1] , labels = ['Group 1' , 'Group 2'])\n",
        "plt.show()"
      ],
      "metadata": {
        "colab": {
          "base_uri": "https://localhost:8080/",
          "height": 0
        },
        "id": "6np2cPcRht5T",
        "outputId": "ad299943-05aa-4f6a-e5e5-d6912b499b86"
      },
      "execution_count": 42,
      "outputs": [
        {
          "output_type": "display_data",
          "data": {
            "image/png": "[encoded data removed]",
            "text/plain": [
              "<Figure size 432x288 with 1 Axes>"
            ]
          },
          "metadata": {
            "needs_background": "light"
          }
        }
      ]
    },
    {
      "cell_type": "code",
      "source": [
        "# Calculating the t-test to figure out whether there is any significant statistical difference between two Groups \n",
        "\n",
        "# _ind - independent samples\n",
        "t , p = stats.ttest_ind(data1 , data2)\n",
        "print(t)\n",
        "print('\\n')\n",
        "print(p)"
      ],
      "metadata": {
        "colab": {
          "base_uri": "https://localhost:8080/"
        },
        "id": "SnEH7cDjiNp7",
        "outputId": "23ce1da5-e9d0-4dc1-bdf1-a333d936c6b1"
      },
      "execution_count": 43,
      "outputs": [
        {
          "output_type": "stream",
          "name": "stdout",
          "text": [
            "-3.9795870896140824\n",
            "\n",
            "\n",
            "0.0001701882699200114\n"
          ]
        }
      ]
    },
    {
      "cell_type": "code",
      "source": [
        "# Common way to show t-test results in a plot \n",
        "fig = plt.figure(figsize = (10 ,4))\n",
        "\n",
        "# MModifying the built in parameter\n",
        "plt.rcParams.update({'font.size': 12}) # change the font size \n",
        "\n",
        "plt.plot(0 + np.random.randn(n1)/15 , data1 , 'ro' , markerfacecolor = 'w' , markersize = 14)\n",
        "plt.plot(1 + np.random.randn(n2)/15 , data2 , 'bs' , markerfacecolor = 'w' , markersize = 14)\n",
        "plt.xlim([-1 , 2])\n",
        "plt.xticks([0,1] , labels = ['Group 1' , 'Group 2'])\n",
        "\n",
        "plt.title(f't = {t:.2f} , p = {p:.3f}')\n",
        "plt.show()"
      ],
      "metadata": {
        "colab": {
          "base_uri": "https://localhost:8080/",
          "height": 0
        },
        "id": "NXyh-AjaiwKa",
        "outputId": "c93bb369-b703-4956-8a4f-7378576b1f8a"
      },
      "execution_count": 44,
      "outputs": [
        {
          "output_type": "display_data",
          "data": {
            "image/png": "[encoded data removed]",
            "text/plain": [
              "<Figure size 720x288 with 1 Axes>"
            ]
          },
          "metadata": {
            "needs_background": "light"
          }
        }
      ]
    },
    {
      "cell_type": "markdown",
      "source": [
        "### Derivatives \n"
      ],
      "metadata": {
        "id": "HSTrg8-6n6QB"
      }
    },
    {
      "cell_type": "code",
      "source": [
        "import sympy as sym \n",
        "import sympy.plotting.plot as symplot "
      ],
      "metadata": {
        "id": "0l4zLdnJ8QUB"
      },
      "execution_count": 45,
      "outputs": []
    },
    {
      "cell_type": "code",
      "source": [
        "# Create symbolic variables \n",
        "x = sym.symbols('x')\n",
        "\n",
        "# Create a function \n",
        "fx = 2*x**2\n",
        "\n",
        "# Compute its derivatives \n",
        "df = sym.diff(fx , x)\n",
        "\n",
        "df"
      ],
      "metadata": {
        "colab": {
          "base_uri": "https://localhost:8080/",
          "height": 0
        },
        "id": "kghH03A58UyH",
        "outputId": "eb8f85b6-a304-49b9-caf1-db822f836270"
      },
      "execution_count": 46,
      "outputs": [
        {
          "output_type": "execute_result",
          "data": {
            "text/latex": "$\\displaystyle 4 x$",
            "text/plain": [
              "4*x"
            ]
          },
          "metadata": {},
          "execution_count": 46
        }
      ]
    },
    {
      "cell_type": "code",
      "source": [
        "# Plot them \n",
        "symplot(fx , (x , -4 ,4), title = 'The function')\n",
        "plt.show()\n",
        "\n",
        "symplot(df , (x , -4 ,4), title = 'The function')\n",
        "plt.show()"
      ],
      "metadata": {
        "colab": {
          "base_uri": "https://localhost:8080/",
          "height": 0
        },
        "id": "GrGCw6wh8amL",
        "outputId": "a6872e4d-b229-490a-97f9-2ca99db7683d"
      },
      "execution_count": 47,
      "outputs": [
        {
          "output_type": "display_data",
          "data": {
            "image/png": "[encoded data removed]",
            "text/plain": [
              "<Figure size 432x288 with 1 Axes>"
            ]
          },
          "metadata": {
            "needs_background": "light"
          }
        },
        {
          "output_type": "display_data",
          "data": {
            "image/png": "[encoded data removed]",
            "text/plain": [
              "<Figure size 432x288 with 1 Axes>"
            ]
          },
          "metadata": {
            "needs_background": "light"
          }
        }
      ]
    },
    {
      "cell_type": "markdown",
      "source": [
        "### Derivatives: product and chain rule\n",
        "\n"
      ],
      "metadata": {
        "id": "-xWnVSzo86Eb"
      }
    },
    {
      "cell_type": "code",
      "source": [
        "import sympy as sym \n",
        "from IPython.display import display \n",
        "\n",
        "# Create symbolic variables in sympy \n",
        "x = sym.symbols('x')\n",
        "\n",
        "# Create two functions \n",
        "fx = 2*x**2\n",
        "gx = 4*x**3 - 3*x**4\n",
        "\n",
        "# compute their individual derivatives \n",
        "df = sym.diff(fx)\n",
        "dg = sym.diff(gx)\n",
        "\n",
        "print(df)\n",
        "print(dg)"
      ],
      "metadata": {
        "colab": {
          "base_uri": "https://localhost:8080/"
        },
        "id": "_Dx21KI-UaE9",
        "outputId": "bbd78c35-c055-47ac-d8e2-8132a8349c39"
      },
      "execution_count": 48,
      "outputs": [
        {
          "output_type": "stream",
          "name": "stdout",
          "text": [
            "4*x\n",
            "-12*x**3 + 12*x**2\n"
          ]
        }
      ]
    },
    {
      "cell_type": "code",
      "source": [
        "# Applying the product rule manually \n",
        "manual = df * gx + fx * dg \n",
        "\n",
        "# Via sympy \n",
        "viasympy = sym.diff(fx * gx)\n",
        "\n",
        "display(fx)\n",
        "display(gx)\n",
        "\n",
        "display(df)\n",
        "display(dg)\n",
        "\n",
        "\n",
        "display(manual)\n",
        "display(viasympy)\n"
      ],
      "metadata": {
        "colab": {
          "base_uri": "https://localhost:8080/",
          "height": 0
        },
        "id": "xCYoy_mLdIri",
        "outputId": "710fb2f1-3211-410c-c1cc-480acc5d5fbd"
      },
      "execution_count": 49,
      "outputs": [
        {
          "output_type": "display_data",
          "data": {
            "text/latex": "$\\displaystyle 2 x^{2}$",
            "text/plain": [
              "2*x**2"
            ]
          },
          "metadata": {}
        },
        {
          "output_type": "display_data",
          "data": {
            "text/latex": "$\\displaystyle - 3 x^{4} + 4 x^{3}$",
            "text/plain": [
              "-3*x**4 + 4*x**3"
            ]
          },
          "metadata": {}
        },
        {
          "output_type": "display_data",
          "data": {
            "text/latex": "$\\displaystyle 4 x$",
            "text/plain": [
              "4*x"
            ]
          },
          "metadata": {}
        },
        {
          "output_type": "display_data",
          "data": {
            "text/latex": "$\\displaystyle - 12 x^{3} + 12 x^{2}$",
            "text/plain": [
              "-12*x**3 + 12*x**2"
            ]
          },
          "metadata": {}
        },
        {
          "output_type": "display_data",
          "data": {
            "text/latex": "$\\displaystyle 2 x^{2} \\left(- 12 x^{3} + 12 x^{2}\\right) + 4 x \\left(- 3 x^{4} + 4 x^{3}\\right)$",
            "text/plain": [
              "2*x**2*(-12*x**3 + 12*x**2) + 4*x*(-3*x**4 + 4*x**3)"
            ]
          },
          "metadata": {}
        },
        {
          "output_type": "display_data",
          "data": {
            "text/latex": "$\\displaystyle 2 x^{2} \\left(- 12 x^{3} + 12 x^{2}\\right) + 4 x \\left(- 3 x^{4} + 4 x^{3}\\right)$",
            "text/plain": [
              "2*x**2*(-12*x**3 + 12*x**2) + 4*x*(-3*x**4 + 4*x**3)"
            ]
          },
          "metadata": {}
        }
      ]
    },
    {
      "cell_type": "code",
      "source": [
        "# With the chain rule \n",
        "gx = x**2 + 4*x**3\n",
        "fx = (gx)**5\n",
        "\n",
        "display(fx)\n",
        "\n",
        "display(sym.diff(fx))"
      ],
      "metadata": {
        "colab": {
          "base_uri": "https://localhost:8080/",
          "height": 0
        },
        "id": "fGKhw8Gtd9nI",
        "outputId": "6613f270-95be-4669-9170-0843dd0112bb"
      },
      "execution_count": 50,
      "outputs": [
        {
          "output_type": "display_data",
          "data": {
            "text/latex": "$\\displaystyle \\left(4 x^{3} + x^{2}\\right)^{5}$",
            "text/plain": [
              "(4*x**3 + x**2)**5"
            ]
          },
          "metadata": {}
        },
        {
          "output_type": "display_data",
          "data": {
            "text/latex": "$\\displaystyle \\left(60 x^{2} + 10 x\\right) \\left(4 x^{3} + x^{2}\\right)^{4}$",
            "text/plain": [
              "(60*x**2 + 10*x)*(4*x**3 + x**2)**4"
            ]
          },
          "metadata": {}
        }
      ]
    },
    {
      "cell_type": "code",
      "source": [
        ""
      ],
      "metadata": {
        "id": "k3jzbyuHfBeT"
      },
      "execution_count": 50,
      "outputs": []
    }
  ]
}