{
  "nbformat": 4,
  "nbformat_minor": 0,
  "metadata": {
    "colab": {
      "name": "Overfitting_CV.ipynb",
      "provenance": [],
      "collapsed_sections": [],
      "authorship_tag": "ABX9TyPVw5kb7Eu6y6PAMO7gbAX1",
      "include_colab_link": true
    },
    "kernelspec": {
      "name": "python3",
      "display_name": "Python 3"
    },
    "language_info": {
      "name": "python"
    }
  },
  "cells": [
    {
      "cell_type": "markdown",
      "metadata": {
        "id": "view-in-github",
        "colab_type": "text"
      },
      "source": [
        "<a href=\"https://colab.research.google.com/github/ashikshafi08/DUDL-Pytorch/blob/main/Overfitting_CV.ipynb\" target=\"_parent\"><img src=\"https://colab.research.google.com/assets/colab-badge.svg\" alt=\"Open In Colab\"/></a>"
      ]
    },
    {
      "cell_type": "code",
      "execution_count": 2,
      "metadata": {
        "id": "awdjdE-5u2-z"
      },
      "outputs": [],
      "source": [
        "import pandas as pd \n",
        "import numpy as np \n",
        "from sklearn.model_selection import train_test_split \n",
        "\n",
        "import torch \n",
        "import torch.nn as nn \n"
      ]
    },
    {
      "cell_type": "markdown",
      "source": [
        "## Cross Validation - Manual separation \n",
        "\n",
        "- How to implement cv manually using Numpy.\n",
        "- How to perform CV on iris dataset. "
      ],
      "metadata": {
        "id": "4IiY1HG8vgc8"
      }
    },
    {
      "cell_type": "code",
      "source": [
        "# Downloading the iris dataset \n",
        "import seaborn as sns \n",
        "iris = sns.load_dataset('iris')\n",
        "\n",
        "# COnvert from pandas df to tensor\n",
        "data = torch.tensor( iris[iris.columns[0:4]].values).float()\n",
        "\n",
        "# Transform species to number \n",
        "labels = torch.zeros(len(data) , dtype = torch.long)\n",
        "labels[iris.species == 'versicolor'] = 1\n",
        "labels[iris.species == 'virginica'] = 2 \n",
        "\n",
        "data.shape , labels.shape"
      ],
      "metadata": {
        "colab": {
          "base_uri": "https://localhost:8080/"
        },
        "id": "ytoehCPG14UB",
        "outputId": "cf26667a-98e6-4fcc-d90c-5910826a6fb8"
      },
      "execution_count": 3,
      "outputs": [
        {
          "output_type": "execute_result",
          "data": {
            "text/plain": [
              "(torch.Size([150, 4]), torch.Size([150]))"
            ]
          },
          "metadata": {},
          "execution_count": 3
        }
      ]
    },
    {
      "cell_type": "markdown",
      "source": [
        "Here we will seperate the data into train and test set we won't be using the validation set here. "
      ],
      "metadata": {
        "id": "1Xv24Bup14Wt"
      }
    },
    {
      "cell_type": "code",
      "source": [
        "# Splitting the data\n",
        "\n",
        "# How many training examples? \n",
        "trainProp = .8 # not percentage, in proportion\n",
        "nTraining = int(len(labels) *trainProp)\n",
        "\n",
        "# Initialize a boolean vector to select data and labels \n",
        "trainTestBool = np.zeros(len(labels) , dtype = bool)\n",
        "\n",
        "# Setting the first N samples to be True (so we can consider as training)\n",
        "trainTestBool[range(nTraining)] = True \n",
        "\n",
        "trainTestBool"
      ],
      "metadata": {
        "colab": {
          "base_uri": "https://localhost:8080/"
        },
        "id": "4zppO4UL14u9",
        "outputId": "9d7dbcf0-57df-4d7c-d12d-c128fe40dd45"
      },
      "execution_count": 4,
      "outputs": [
        {
          "output_type": "execute_result",
          "data": {
            "text/plain": [
              "array([ True,  True,  True,  True,  True,  True,  True,  True,  True,\n",
              "        True,  True,  True,  True,  True,  True,  True,  True,  True,\n",
              "        True,  True,  True,  True,  True,  True,  True,  True,  True,\n",
              "        True,  True,  True,  True,  True,  True,  True,  True,  True,\n",
              "        True,  True,  True,  True,  True,  True,  True,  True,  True,\n",
              "        True,  True,  True,  True,  True,  True,  True,  True,  True,\n",
              "        True,  True,  True,  True,  True,  True,  True,  True,  True,\n",
              "        True,  True,  True,  True,  True,  True,  True,  True,  True,\n",
              "        True,  True,  True,  True,  True,  True,  True,  True,  True,\n",
              "        True,  True,  True,  True,  True,  True,  True,  True,  True,\n",
              "        True,  True,  True,  True,  True,  True,  True,  True,  True,\n",
              "        True,  True,  True,  True,  True,  True,  True,  True,  True,\n",
              "        True,  True,  True,  True,  True,  True,  True,  True,  True,\n",
              "        True,  True,  True, False, False, False, False, False, False,\n",
              "       False, False, False, False, False, False, False, False, False,\n",
              "       False, False, False, False, False, False, False, False, False,\n",
              "       False, False, False, False, False, False])"
            ]
          },
          "metadata": {},
          "execution_count": 4
        }
      ]
    },
    {
      "cell_type": "markdown",
      "source": [
        "If its True then it means the data is exposed to the training set and with False it belongs tot he test set. \n",
        "\n",
        "The main concern while splitting the dataset is label imabalance and this occurs if the labels in the dataset isn't balanced well and it hugely affects our model's performance and introduce bias. "
      ],
      "metadata": {
        "id": "u3guTjsKpyJU"
      }
    },
    {
      "cell_type": "code",
      "source": [
        "# Testing whether the splitted data is balanced or not \n",
        "print('Average of full data: ')\n",
        "print(torch.mean(labels.float())) # =1 by definition \n",
        "print('\\n')\n",
        "\n",
        "print('Average on the training data: ')\n",
        "print(torch.mean(labels[trainTestBool].float())) # should be 1\n",
        "\n",
        "\n",
        "print('Average on the testing data: ') # should be 1\n",
        "print(torch.mean(labels[~trainTestBool].float())) # should be 1"
      ],
      "metadata": {
        "colab": {
          "base_uri": "https://localhost:8080/"
        },
        "id": "jc5F-MrYq9B4",
        "outputId": "d45767a5-922e-41c2-ce29-3f354945ed81"
      },
      "execution_count": 5,
      "outputs": [
        {
          "output_type": "stream",
          "name": "stdout",
          "text": [
            "Average of full data: \n",
            "tensor(1.)\n",
            "\n",
            "\n",
            "Average on the training data: \n",
            "tensor(0.7500)\n",
            "Average on the testing data: \n",
            "tensor(2.)\n"
          ]
        }
      ]
    },
    {
      "cell_type": "code",
      "source": [
        "# Shedding some randomness! \n",
        "\n",
        "trainTestBool = np.zeros(len(labels) , dtype = bool)\n",
        "\n",
        "\n",
        "items2use4train = np.random.choice(range(len(labels)) , nTraining , replace = False)\n",
        "items2use4train"
      ],
      "metadata": {
        "colab": {
          "base_uri": "https://localhost:8080/"
        },
        "id": "DaKZOIYfrN4m",
        "outputId": "56144288-0db0-4e69-9ca6-770b84c88e6e"
      },
      "execution_count": 6,
      "outputs": [
        {
          "output_type": "execute_result",
          "data": {
            "text/plain": [
              "array([ 47,  94, 127,  20,  16,  40,   4, 112,  35,   9,  21,  48,  69,\n",
              "         1,  63,  85,  87, 137,   0, 119,  79,  67,  61,  83,  82, 107,\n",
              "        59,  14, 106, 108,  12,  25, 109, 121, 117,  42,  37,  78,  24,\n",
              "        75,  65, 138,  80,  73, 133, 102,  23,  55,  91, 129,  18, 103,\n",
              "         8, 134, 147,  27,  38,  43, 124,  98,  36,  70, 104,  39,  30,\n",
              "        84, 100, 146,  32,  44,  66,  54,  49,  77,  90,  11, 142,  10,\n",
              "       148, 116,  33, 130,  68,  72,  96,  29, 125, 113, 128,  86,  74,\n",
              "       144,  41, 143,  28,  99,  62,  45,  64,   6,  17, 122,  58,  26,\n",
              "       136,  97, 105,  13,  22, 114, 141,   3,  31, 118,  56,  50,  34,\n",
              "        89, 139, 131])"
            ]
          },
          "metadata": {},
          "execution_count": 6
        }
      ]
    },
    {
      "cell_type": "code",
      "source": [
        "# Now for the above indexes we set the values to be True , that is training set \n",
        "trainTestBool[items2use4train] = True \n",
        "trainTestBool"
      ],
      "metadata": {
        "colab": {
          "base_uri": "https://localhost:8080/"
        },
        "id": "Df_Scn-ctMNS",
        "outputId": "676435d8-35b1-4230-978d-6d01f23bc049"
      },
      "execution_count": 7,
      "outputs": [
        {
          "output_type": "execute_result",
          "data": {
            "text/plain": [
              "array([ True,  True, False,  True,  True, False,  True, False,  True,\n",
              "        True,  True,  True,  True,  True,  True, False,  True,  True,\n",
              "        True, False,  True,  True,  True,  True,  True,  True,  True,\n",
              "        True,  True,  True,  True,  True,  True,  True,  True,  True,\n",
              "        True,  True,  True,  True,  True,  True,  True,  True,  True,\n",
              "        True, False,  True,  True,  True,  True, False, False, False,\n",
              "        True,  True,  True, False,  True,  True, False,  True,  True,\n",
              "        True,  True,  True,  True,  True,  True,  True,  True, False,\n",
              "        True,  True,  True,  True, False,  True,  True,  True,  True,\n",
              "       False,  True,  True,  True,  True,  True,  True, False,  True,\n",
              "        True,  True, False, False,  True, False,  True,  True,  True,\n",
              "        True,  True, False,  True,  True,  True,  True,  True,  True,\n",
              "        True,  True, False, False,  True,  True,  True, False,  True,\n",
              "        True,  True,  True, False,  True,  True, False,  True,  True,\n",
              "       False,  True,  True,  True,  True,  True, False,  True,  True,\n",
              "       False,  True,  True,  True,  True, False,  True,  True,  True,\n",
              "        True, False,  True,  True,  True, False])"
            ]
          },
          "metadata": {},
          "execution_count": 7
        }
      ]
    },
    {
      "cell_type": "code",
      "source": [
        "  # Testing whether the splitted data is balanced or not \n",
        "print('Average of full data: ')\n",
        "print(torch.mean(labels.float())) # =1 by definition \n",
        "print('\\n')\n",
        "\n",
        "print('Average on the training data: ')\n",
        "print(torch.mean(labels[trainTestBool].float())) # should be 1\n",
        "\n",
        "\n",
        "print('Average on the testing data: ') # should be 1\n",
        "print(torch.mean(labels[~trainTestBool].float())) # should be 1"
      ],
      "metadata": {
        "colab": {
          "base_uri": "https://localhost:8080/"
        },
        "id": "YqMOqIvXtc75",
        "outputId": "277738f9-4cd5-410a-aaf8-92ffa2c36d28"
      },
      "execution_count": 8,
      "outputs": [
        {
          "output_type": "stream",
          "name": "stdout",
          "text": [
            "Average of full data: \n",
            "tensor(1.)\n",
            "\n",
            "\n",
            "Average on the training data: \n",
            "tensor(0.9500)\n",
            "Average on the testing data: \n",
            "tensor(1.2000)\n"
          ]
        }
      ]
    },
    {
      "cell_type": "markdown",
      "source": [
        "The larger the dataset the less we need to worry about the balance in labels. "
      ],
      "metadata": {
        "id": "3nLVmXr0t6QY"
      }
    },
    {
      "cell_type": "code",
      "source": [
        " # Create the ANN model \n",
        "\n",
        "ANNiris = nn.Sequential(\n",
        "     nn.Linear(4 , 64) , \n",
        "     nn.ReLU(), \n",
        "     nn.Linear(64 , 64), \n",
        "     nn.ReLU(),\n",
        "     nn.Linear(64, 3)\n",
        " )\n",
        "\n",
        "loss_func = nn.CrossEntropyLoss()\n",
        "optimizer = torch.optim.SGD(ANNiris.parameters() , lr = .01)\n"
      ],
      "metadata": {
        "id": "ayBnLYRouEsy"
      },
      "execution_count": 9,
      "outputs": []
    },
    {
      "cell_type": "code",
      "source": [
        "# Checking the shape of our dataset \n",
        "\n",
        "print(data.shape) # entire dataset \n",
        "print(data[trainTestBool, :].shape)\n",
        "print(data[~trainTestBool, :].shape)"
      ],
      "metadata": {
        "colab": {
          "base_uri": "https://localhost:8080/"
        },
        "id": "0z8w0_NDuoFB",
        "outputId": "98bdc49a-e158-4ede-a2a5-233afce0135b"
      },
      "execution_count": 10,
      "outputs": [
        {
          "output_type": "stream",
          "name": "stdout",
          "text": [
            "torch.Size([150, 4])\n",
            "torch.Size([120, 4])\n",
            "torch.Size([30, 4])\n"
          ]
        }
      ]
    },
    {
      "cell_type": "code",
      "source": [
        "# Train and test the model \n",
        "numepochs = 1000 \n",
        "\n",
        "# Intialize the losses to store \n",
        "losses = torch.zeros(numepochs)\n",
        "onGoingAcc = []\n",
        "\n",
        "# Loop over the epochs \n",
        "for epoch in range(numepochs):\n",
        "\n",
        "  # Forward pass \n",
        "  yHat = ANNiris(data[trainTestBool, :])\n",
        "\n",
        "  # Compute accuracy \n",
        "  acc = 100*torch.mean((torch.argmax(yHat , axis = 1) == labels[trainTestBool]).float())\n",
        "  onGoingAcc.append(acc)\n",
        "\n",
        "  # Compute the loss \n",
        "  loss = loss_func(yHat , labels[trainTestBool])\n",
        "  losses[epoch] = loss \n",
        "\n",
        "  # Backward pass \n",
        "  optimizer.zero_grad()\n",
        "  loss.backward()\n",
        "  optimizer.step()\n",
        "\n"
      ],
      "metadata": {
        "id": "QrQfMemGvBkw"
      },
      "execution_count": 11,
      "outputs": []
    },
    {
      "cell_type": "code",
      "source": [
        "# Evaluating the test and train accuracies \n",
        "\n",
        "# Final forward pass to make predictions after making the prediction \n",
        "predictions = ANNiris(data[trainTestBool , :])\n",
        "trainAcc = 100*torch.mean((torch.argmax(predictions , axis = 1 ) == labels[trainTestBool]).float())\n",
        "\n",
        "# Final forward pass the trained model\n",
        "predictions = ANNiris(data[~trainTestBool , :])\n",
        "testAcc = 100*torch.mean((torch.argmax(predictions , axis = 1 ) == labels[~trainTestBool]).float())\n",
        "\n",
        "trainAcc , testAcc"
      ],
      "metadata": {
        "colab": {
          "base_uri": "https://localhost:8080/"
        },
        "id": "hXshaRGBxJk0",
        "outputId": "c63b5413-d943-4df3-e9b4-e35fdbf85064"
      },
      "execution_count": 12,
      "outputs": [
        {
          "output_type": "execute_result",
          "data": {
            "text/plain": [
              "(tensor(98.3333), tensor(100.))"
            ]
          },
          "metadata": {},
          "execution_count": 12
        }
      ]
    },
    {
      "cell_type": "markdown",
      "source": [
        "## Cross Validation - Scikit-learn\n",
        "- Implement cv using the sklearn \n",
        "- Perform a parametric experiment with the fraction of train/test items."
      ],
      "metadata": {
        "id": "wBioQlLjyOpt"
      }
    },
    {
      "cell_type": "code",
      "source": [
        "from sklearn.model_selection import train_test_split"
      ],
      "metadata": {
        "id": "APHFg5ZP1zUF"
      },
      "execution_count": 13,
      "outputs": []
    },
    {
      "cell_type": "code",
      "source": [
        "# Creating fake data to test the utility \n",
        "fakeData =  np.tile(np.array([1,2,3,4]) , (10 ,1)) + np.tile(10*np.arange(1 ,11) , (4,1) ).T\n",
        "fakeLabels = np.arange(10) > 4 \n",
        "\n",
        "print(fakeData) , print('')\n",
        "print(fakeLabels)"
      ],
      "metadata": {
        "colab": {
          "base_uri": "https://localhost:8080/"
        },
        "id": "Hm05zsB5A93e",
        "outputId": "0c5df0f1-ceba-49fa-f74f-fe11ab267bba"
      },
      "execution_count": 14,
      "outputs": [
        {
          "output_type": "stream",
          "name": "stdout",
          "text": [
            "[[ 11  12  13  14]\n",
            " [ 21  22  23  24]\n",
            " [ 31  32  33  34]\n",
            " [ 41  42  43  44]\n",
            " [ 51  52  53  54]\n",
            " [ 61  62  63  64]\n",
            " [ 71  72  73  74]\n",
            " [ 81  82  83  84]\n",
            " [ 91  92  93  94]\n",
            " [101 102 103 104]]\n",
            "\n",
            "[False False False False False  True  True  True  True  True]\n"
          ]
        }
      ]
    },
    {
      "cell_type": "code",
      "source": [
        "# Using the funtionality to split the data \n",
        "trainData , testData , trainLabels , testLabels = train_test_split(fakeData , fakeLabels , test_size = .2 ,\n",
        "                                                                   shuffle = False)\n",
        "\n",
        "print(f'Train data shape: {trainData.shape}')\n",
        "print(f'Test data shape: {testData.shape}')\n",
        "print(f'Train labels shape: {trainLabels.shape}')\n",
        "print(f'Test labels shape: {testLabels.shape}')"
      ],
      "metadata": {
        "colab": {
          "base_uri": "https://localhost:8080/"
        },
        "id": "5ieC4v79BSX2",
        "outputId": "ae9b52a0-16fe-468d-c67a-1ac81207d023"
      },
      "execution_count": 15,
      "outputs": [
        {
          "output_type": "stream",
          "name": "stdout",
          "text": [
            "Train data shape: (8, 4)\n",
            "Test data shape: (2, 4)\n",
            "Train labels shape: (8,)\n",
            "Test labels shape: (2,)\n"
          ]
        }
      ]
    },
    {
      "cell_type": "code",
      "source": [
        "print(trainData)\n",
        "print('\\n')\n",
        "print(testData)"
      ],
      "metadata": {
        "colab": {
          "base_uri": "https://localhost:8080/"
        },
        "id": "Lbo0eC7BC1JP",
        "outputId": "748f0cb0-7de1-4bbc-c29d-3586b60d387f"
      },
      "execution_count": 16,
      "outputs": [
        {
          "output_type": "stream",
          "name": "stdout",
          "text": [
            "[[11 12 13 14]\n",
            " [21 22 23 24]\n",
            " [31 32 33 34]\n",
            " [41 42 43 44]\n",
            " [51 52 53 54]\n",
            " [61 62 63 64]\n",
            " [71 72 73 74]\n",
            " [81 82 83 84]]\n",
            "\n",
            "\n",
            "[[ 91  92  93  94]\n",
            " [101 102 103 104]]\n"
          ]
        }
      ]
    },
    {
      "cell_type": "code",
      "source": [
        "def createTheModel():\n",
        "\n",
        "   # Create the ANN model \n",
        "\n",
        "  ANN = nn.Sequential(\n",
        "     nn.Linear(4 , 64) , \n",
        "     nn.ReLU(), \n",
        "     nn.Linear(64 , 64), \n",
        "     nn.ReLU(),\n",
        "     nn.Linear(64, 3)\n",
        "  )\n",
        "\n",
        "  lossfun = nn.CrossEntropyLoss()\n",
        "  optimizer = torch.optim.SGD(ANN.parameters() , lr = .01)\n",
        "\n",
        "  return ANN , lossfun , optimizer\n",
        "\n",
        "\n",
        "numepochs = 200 \n",
        "\n",
        "def trainTheModel(trainProp):\n",
        "\n",
        "  # Initialize the values to store the results \n",
        "  losses = torch.zeros(numepochs)\n",
        "  trainAcc = []\n",
        "  testAcc = []\n",
        "\n",
        "  # Making the splits \n",
        "  # Inside the training loop will leads to mixing up of train and test data that leads to overfitting!\n",
        "  X_train , X_test , y_train, y_test = train_test_split(data , labels , \n",
        "                                                          train_size = trainProp)\n",
        "\n",
        "  # Loop over the epohcs \n",
        "  for epoch in range(numepochs):\n",
        "\n",
        "    # Separate the train from test data \n",
        "    # Note 1: Unique split for each epoch \n",
        "    # Note 2: here we specify the amount of training size, not testing size \n",
        "    # X_train , X_test , y_train, y_test = train_test_split(data , labels ,  train_size = trainProp)\n",
        "    \n",
        "    # Forward pass \n",
        "    yHat = ANN(X_train)\n",
        "    \n",
        "    # Compute loss \n",
        "    loss = lossfun(yHat , y_train)\n",
        "\n",
        "    # backward pass \n",
        "    optimizer.zero_grad()\n",
        "    loss.backward()\n",
        "    optimizer.step()\n",
        "\n",
        "    # Compute the training accuracy \n",
        "    trainAcc.append( 100*torch.mean((torch.argmax(yHat,axis=1) == y_train).float()).item() )\n",
        "\n",
        "\n",
        "    # Test accuracy \n",
        "    predLabels = torch.argmax(ANN(X_test) , axis = 1)\n",
        "    testAcc.append( 100*torch.mean((predLabels == y_test).float()).item() )\n",
        "\n",
        "  # Function output \n",
        "  return trainAcc, testAcc"
      ],
      "metadata": {
        "id": "rNjFN1pADMu0"
      },
      "execution_count": 17,
      "outputs": []
    },
    {
      "cell_type": "markdown",
      "source": [
        "In the above function we are making predictions on the test set inside a training loop, does it affect the results or hinder the performance? \n",
        "\n",
        "No, since we are computing the gradients and doing the backprop we only care about the training size of the model. \n"
      ],
      "metadata": {
        "id": "Jtf2oC7AD09B"
      }
    },
    {
      "cell_type": "code",
      "source": [
        "# Testing the model by running it once \n",
        "ANN , lossfun, optimizer = createTheModel()\n",
        "\n",
        "# Train the model \n",
        "# Training proportion \n",
        "trainAcc , testAcc = trainTheModel(.8)\n"
      ],
      "metadata": {
        "id": "aQChgyimGqYJ"
      },
      "execution_count": 18,
      "outputs": []
    },
    {
      "cell_type": "markdown",
      "source": [
        ""
      ],
      "metadata": {
        "id": "vzpLZOnaICoW"
      }
    },
    {
      "cell_type": "code",
      "source": [
        "# Plot the results \n",
        "import matplotlib.pyplot as plt\n",
        "\n",
        "fig = plt.figure(figsize = (10 , 5))\n",
        "\n",
        "plt.plot(trainAcc , 'ro-')\n",
        "plt.plot(testAcc , 'bs-')\n",
        "plt.xlabel('Epochs')\n",
        "plt.ylabel('Accuracy in %')\n",
        "plt.legend(['Train' , 'Test'])\n",
        "plt.show()\n",
        "\n",
        "\n"
      ],
      "metadata": {
        "colab": {
          "base_uri": "https://localhost:8080/",
          "height": 334
        },
        "id": "i4Ys72LMH6mW",
        "outputId": "b3420876-99a8-475d-824b-b0882aa22fd5"
      },
      "execution_count": 19,
      "outputs": [
        {
          "output_type": "display_data",
          "data": {
            "image/png": "[encoded data removed]",
            "text/plain": [
              "<Figure size 720x360 with 1 Axes>"
            ]
          },
          "metadata": {
            "needs_background": "light"
          }
        }
      ]
    },
    {
      "cell_type": "markdown",
      "source": [
        "**Running the experiments** with different train set sizes. \n",
        "\n"
      ],
      "metadata": {
        "id": "chfTHpSLI6Jf"
      }
    },
    {
      "cell_type": "code",
      "source": [
        "trainSetSizes = np.linspace(.2, .95 , 10)\n",
        "\n",
        "# Storing all the accuracies \n",
        "allTrainAcc = np.zeros((len(trainSetSizes) , numepochs))\n",
        "allTestAcc = np.zeros((len(trainSetSizes) , numepochs))\n",
        "\n",
        "for i in range(len(trainSetSizes)):\n",
        "\n",
        "  # Create a model \n",
        "  ANN , lossfun , optimizer = createTheModel()\n",
        "\n",
        "  # Train the model\n",
        "  trainAcc , testAcc = trainTheModel(trainSetSizes[i])\n",
        "\n",
        "  # Store the results \n",
        "  allTrainAcc[i, :] = trainAcc\n",
        "  allTestAcc[i , :] = testAcc\n",
        "\n"
      ],
      "metadata": {
        "id": "F45ac9d3Ypxe"
      },
      "execution_count": 20,
      "outputs": []
    },
    {
      "cell_type": "code",
      "source": [
        "fig,ax = plt.subplots(1,2,figsize=(13,5))\n",
        "\n",
        "ax[0].imshow(allTrainAcc,aspect='auto',\n",
        "             vmin=50,vmax=90, extent=[0,numepochs,trainSetSizes[-1],trainSetSizes[0]])\n",
        "ax[0].set_xlabel('Epochs')\n",
        "ax[0].set_ylabel('Training size proportion')\n",
        "ax[0].set_title('Training accuracy')\n",
        "\n",
        "p = ax[1].imshow(allTestAcc,aspect='auto',\n",
        "             vmin=50,vmax=90, extent=[0,numepochs,trainSetSizes[-1],trainSetSizes[0]])\n",
        "ax[1].set_xlabel('Epochs')\n",
        "ax[1].set_ylabel('Training size proportion')\n",
        "ax[1].set_title('Test accuracy')\n",
        "fig.colorbar(p,ax=ax[1])\n",
        "\n",
        "plt.show()"
      ],
      "metadata": {
        "colab": {
          "base_uri": "https://localhost:8080/",
          "height": 350
        },
        "id": "fdLCFopWYvKg",
        "outputId": "ceba1ae0-b804-43c7-b053-bcef3a5b3ff8"
      },
      "execution_count": 21,
      "outputs": [
        {
          "output_type": "display_data",
          "data": {
            "image/png": "[encoded data removed]",
            "text/plain": [
              "<Figure size 936x360 with 3 Axes>"
            ]
          },
          "metadata": {
            "needs_background": "light"
          }
        }
      ]
    },
    {
      "cell_type": "markdown",
      "source": [
        "In here the dataset is too small to draw any firm conclusions about the relationship between the training proportion and overall accuracy. "
      ],
      "metadata": {
        "id": "E7pl5Pk6Zo7u"
      }
    },
    {
      "cell_type": "markdown",
      "source": [
        "## Cross validatin - DataLoader\n",
        "\n",
        "- Another way to implement cross validation using scikit-learn and torch \n",
        "- about the DataLoader and Dataset pytorch objects \n",
        "- A bit about batches, which are important for speeding up learning and decreasing computation time. \n",
        "\n"
      ],
      "metadata": {
        "id": "QvLZi-9kaGI1"
      }
    },
    {
      "cell_type": "code",
      "source": [
        "from torch.utils.data import DataLoader\n"
      ],
      "metadata": {
        "id": "WJLIYflxsdfm"
      },
      "execution_count": 22,
      "outputs": []
    },
    {
      "cell_type": "code",
      "source": [
        "# Creating an instance of the DataLoader object \n",
        "fakeDataLdr = DataLoader(fakeData , shuffle = True)\n",
        "print(fakeDataLdr)\n",
        "print(fakeDataLdr.batch_size)"
      ],
      "metadata": {
        "colab": {
          "base_uri": "https://localhost:8080/"
        },
        "id": "VOWstbKwuFcu",
        "outputId": "e395fa50-75cd-4b53-82f3-88e2328e2d9d"
      },
      "execution_count": 23,
      "outputs": [
        {
          "output_type": "stream",
          "name": "stdout",
          "text": [
            "<torch.utils.data.dataloader.DataLoader object at 0x7f468d32dcd0>\n",
            "1\n"
          ]
        }
      ]
    },
    {
      "cell_type": "code",
      "source": [
        "# Iterate through the dataloader object \n",
        "for i , oneSample in enumerate(fakeDataLdr):\n",
        "  print(i , oneSample , oneSample.shape)\n",
        "\n",
        "  "
      ],
      "metadata": {
        "colab": {
          "base_uri": "https://localhost:8080/"
        },
        "id": "7gEOi15puwrU",
        "outputId": "ccdac3da-30c5-4427-ed51-88637a3fc32b"
      },
      "execution_count": 24,
      "outputs": [
        {
          "output_type": "stream",
          "name": "stdout",
          "text": [
            "0 tensor([[31, 32, 33, 34]]) torch.Size([1, 4])\n",
            "1 tensor([[101, 102, 103, 104]]) torch.Size([1, 4])\n",
            "2 tensor([[41, 42, 43, 44]]) torch.Size([1, 4])\n",
            "3 tensor([[21, 22, 23, 24]]) torch.Size([1, 4])\n",
            "4 tensor([[71, 72, 73, 74]]) torch.Size([1, 4])\n",
            "5 tensor([[11, 12, 13, 14]]) torch.Size([1, 4])\n",
            "6 tensor([[81, 82, 83, 84]]) torch.Size([1, 4])\n",
            "7 tensor([[51, 52, 53, 54]]) torch.Size([1, 4])\n",
            "8 tensor([[61, 62, 63, 64]]) torch.Size([1, 4])\n",
            "9 tensor([[91, 92, 93, 94]]) torch.Size([1, 4])\n"
          ]
        }
      ]
    },
    {
      "cell_type": "markdown",
      "source": [
        "Here we don't have the labels in here, because we have'nt passed the labels as a input into the DataLoader. \n",
        "\n",
        "We can create something similar to that `tf.data.Dataset` in Pytorch and its called as `torch.utils.data.TensorDataset()` in here we can bundel both the data and labels. Here no shuffling is applied all we are doing is bundling up the data inside a Dataset object. "
      ],
      "metadata": {
        "id": "SQBhCu6cvbTE"
      }
    },
    {
      "cell_type": "code",
      "source": [
        "# We need to create a Dataset that contains the data and labels\n",
        "fakeDataset = torch.utils.data.TensorDataset(torch.Tensor(fakeData) , torch.Tensor(fakeLabels))\n",
        "print(fakeDataset.tensors)"
      ],
      "metadata": {
        "colab": {
          "base_uri": "https://localhost:8080/"
        },
        "id": "b2BCAvguCqCI",
        "outputId": "21d17b75-885d-4ab9-f723-5709672f81f3"
      },
      "execution_count": 25,
      "outputs": [
        {
          "output_type": "stream",
          "name": "stdout",
          "text": [
            "(tensor([[ 11.,  12.,  13.,  14.],\n",
            "        [ 21.,  22.,  23.,  24.],\n",
            "        [ 31.,  32.,  33.,  34.],\n",
            "        [ 41.,  42.,  43.,  44.],\n",
            "        [ 51.,  52.,  53.,  54.],\n",
            "        [ 61.,  62.,  63.,  64.],\n",
            "        [ 71.,  72.,  73.,  74.],\n",
            "        [ 81.,  82.,  83.,  84.],\n",
            "        [ 91.,  92.,  93.,  94.],\n",
            "        [101., 102., 103., 104.]]), tensor([0., 0., 0., 0., 0., 1., 1., 1., 1., 1.]))\n"
          ]
        }
      ]
    },
    {
      "cell_type": "code",
      "source": [
        "# Input the dataset object inside a DataLoader for iteration\n",
        "fakeDataLdr = DataLoader(fakeDataset , shuffle = True)\n",
        "\n",
        "# iterate through the data \n",
        "for dat , lab in fakeDataLdr:\n",
        "  print(dat , lab)"
      ],
      "metadata": {
        "colab": {
          "base_uri": "https://localhost:8080/"
        },
        "id": "RYd99wegC7_V",
        "outputId": "990c3417-8613-4ac3-cd71-f006a25afdfc"
      },
      "execution_count": 26,
      "outputs": [
        {
          "output_type": "stream",
          "name": "stdout",
          "text": [
            "tensor([[31., 32., 33., 34.]]) tensor([0.])\n",
            "tensor([[81., 82., 83., 84.]]) tensor([1.])\n",
            "tensor([[21., 22., 23., 24.]]) tensor([0.])\n",
            "tensor([[41., 42., 43., 44.]]) tensor([0.])\n",
            "tensor([[91., 92., 93., 94.]]) tensor([1.])\n",
            "tensor([[11., 12., 13., 14.]]) tensor([0.])\n",
            "tensor([[51., 52., 53., 54.]]) tensor([0.])\n",
            "tensor([[61., 62., 63., 64.]]) tensor([1.])\n",
            "tensor([[101., 102., 103., 104.]]) tensor([1.])\n",
            "tensor([[71., 72., 73., 74.]]) tensor([1.])\n"
          ]
        }
      ]
    },
    {
      "cell_type": "markdown",
      "source": [
        "Now lets use the sklearn to split the data into train and test set "
      ],
      "metadata": {
        "id": "llKZnuUYDuFy"
      }
    },
    {
      "cell_type": "code",
      "source": [
        "# Instantiating the split \n",
        "train_data , test_data , train_labels , test_labels = train_test_split(fakeData , fakeLabels , test_size= .2)\n",
        "\n",
        "# Put the above train and test into dataset \n",
        "trainDataset = torch.utils.data.TensorDataset(torch.Tensor(train_data) , \n",
        "                                              torch.Tensor(train_labels))\n",
        "testDataset = torch.utils.data.TensorDataset(torch.Tensor(test_data) , \n",
        "                                             torch.Tensor(test_labels))\n",
        "\n",
        "# Creating a separate Dataloder for both sets \n",
        "trainLoader = DataLoader(trainDataset , batch_size = 4)\n",
        "testLoader = DataLoader(testDataset)\n",
        "\n",
        "trainLoader , testLoader"
      ],
      "metadata": {
        "colab": {
          "base_uri": "https://localhost:8080/"
        },
        "id": "WCuKn7O0EO8R",
        "outputId": "ef7ed643-3a8e-44a1-9614-753f19fa49ec"
      },
      "execution_count": 27,
      "outputs": [
        {
          "output_type": "execute_result",
          "data": {
            "text/plain": [
              "(<torch.utils.data.dataloader.DataLoader at 0x7f468d3cbdd0>,\n",
              " <torch.utils.data.dataloader.DataLoader at 0x7f468ce75390>)"
            ]
          },
          "metadata": {},
          "execution_count": 27
        }
      ]
    },
    {
      "cell_type": "code",
      "source": [
        "# Iterating the dataloader \n",
        "for batch , label in trainLoader:\n",
        "  print(batch , label)\n",
        "  print('\\n')"
      ],
      "metadata": {
        "colab": {
          "base_uri": "https://localhost:8080/"
        },
        "id": "gfTLIK-GFLcV",
        "outputId": "34dcc457-cc08-4cde-8717-c2249a6c7247"
      },
      "execution_count": 28,
      "outputs": [
        {
          "output_type": "stream",
          "name": "stdout",
          "text": [
            "tensor([[31., 32., 33., 34.],\n",
            "        [41., 42., 43., 44.],\n",
            "        [91., 92., 93., 94.],\n",
            "        [71., 72., 73., 74.]]) tensor([0., 0., 1., 1.])\n",
            "\n",
            "\n",
            "tensor([[ 11.,  12.,  13.,  14.],\n",
            "        [ 81.,  82.,  83.,  84.],\n",
            "        [101., 102., 103., 104.],\n",
            "        [ 61.,  62.,  63.,  64.]]) tensor([0., 1., 1., 1.])\n",
            "\n",
            "\n"
          ]
        }
      ]
    },
    {
      "cell_type": "markdown",
      "source": [
        "We cann see how its batched in a group of 4 and the element size is 2. \n",
        "\n",
        "**On the real data**"
      ],
      "metadata": {
        "id": "mUDRFoqbGH65"
      }
    },
    {
      "cell_type": "code",
      "source": [
        "# Downloading the iris dataset \n",
        "import seaborn as sns \n",
        "iris = sns.load_dataset('iris')\n",
        "\n",
        "# COnvert from pandas df to tensor\n",
        "data = torch.tensor( iris[iris.columns[0:4]].values).float()\n",
        "\n",
        "# Transform species to number \n",
        "labels = torch.zeros(len(data) , dtype = torch.long)\n",
        "labels[iris.species == 'versicolor'] = 1\n",
        "labels[iris.species == 'virginica'] = 2 \n",
        "\n",
        "data.shape , labels.shape"
      ],
      "metadata": {
        "colab": {
          "base_uri": "https://localhost:8080/"
        },
        "id": "sVjf9__zNcHu",
        "outputId": "0754c244-4dba-4827-d4b6-d594dfe3670e"
      },
      "execution_count": 29,
      "outputs": [
        {
          "output_type": "execute_result",
          "data": {
            "text/plain": [
              "(torch.Size([150, 4]), torch.Size([150]))"
            ]
          },
          "metadata": {},
          "execution_count": 29
        }
      ]
    },
    {
      "cell_type": "code",
      "source": [
        "# Splitting the data at first \n",
        "train_data , test_data , train_labels , test_labels = train_test_split(data , labels ,\n",
        "                                                                       train_size = .8)\n",
        "\n",
        "# Converting the above into a Dataset \n",
        "trainDataset = torch.utils.data.TensorDataset(train_data , train_labels)\n",
        "testDataset = torch.utils.data.TensorDataset(test_data ,test_labels)\n",
        "\n",
        "# Converting the above into a DataLoader \n",
        "trainLoader = DataLoader(trainDataset , batch_size= 12 , shuffle = True)\n",
        "testLoader = DataLoader(testDataset , batch_size= testDataset.tensors[0].shape[0]) # here we take the total number of samples in the testDataset as batch size\n",
        "\n",
        "# Iterating inside \n",
        "for batch , labels in trainLoader:\n",
        "  print(batch.shape , labels.shape)"
      ],
      "metadata": {
        "colab": {
          "base_uri": "https://localhost:8080/"
        },
        "id": "5-XYd4LlGNOw",
        "outputId": "8c2d97f7-2517-4c0a-f49b-08806af27971"
      },
      "execution_count": 30,
      "outputs": [
        {
          "output_type": "stream",
          "name": "stdout",
          "text": [
            "torch.Size([12, 4]) torch.Size([12])\n",
            "torch.Size([12, 4]) torch.Size([12])\n",
            "torch.Size([12, 4]) torch.Size([12])\n",
            "torch.Size([12, 4]) torch.Size([12])\n",
            "torch.Size([12, 4]) torch.Size([12])\n",
            "torch.Size([12, 4]) torch.Size([12])\n",
            "torch.Size([12, 4]) torch.Size([12])\n",
            "torch.Size([12, 4]) torch.Size([12])\n",
            "torch.Size([12, 4]) torch.Size([12])\n",
            "torch.Size([12, 4]) torch.Size([12])\n"
          ]
        }
      ]
    },
    {
      "cell_type": "code",
      "source": [
        "for x , y in testLoader:\n",
        "  print(x.shape , y.shape)\n",
        "\n",
        "# here it has all of the test data "
      ],
      "metadata": {
        "colab": {
          "base_uri": "https://localhost:8080/"
        },
        "id": "sUNOb1QyLTK3",
        "outputId": "b54b896c-d5db-45d5-a9c0-51bc11672391"
      },
      "execution_count": 31,
      "outputs": [
        {
          "output_type": "stream",
          "name": "stdout",
          "text": [
            "torch.Size([30, 4]) torch.Size([30])\n"
          ]
        }
      ]
    },
    {
      "cell_type": "code",
      "source": [
        "# Creating the model \n",
        "\n",
        "def createANN():\n",
        "\n",
        "  model = nn.Sequential(\n",
        "      nn.Linear(4 , 64), \n",
        "      nn.ReLU(), \n",
        "      nn.Linear(64 , 64) , \n",
        "      nn.ReLU(), \n",
        "      nn.Linear(64 , 3)\n",
        "  )\n",
        "\n",
        "  # Loss function \n",
        "  lossfun = nn.CrossEntropyLoss()\n",
        "  optimizer = torch.optim.SGD(model.parameters() , lr = .01)\n",
        "\n",
        "  return model , lossfun , optimizer\n"
      ],
      "metadata": {
        "id": "A_ijss58Lnoc"
      },
      "execution_count": 32,
      "outputs": []
    },
    {
      "cell_type": "code",
      "source": [
        "# Training the model \n",
        "\n",
        "numepochs = 500 \n",
        "\n",
        "def trainTheModel():\n",
        "\n",
        "  # Intialize accuracies as empties (we wont be storing losses here)\n",
        "  trainAcc = []\n",
        "  testAcc = [] \n",
        "  for epoch in range(numepochs):\n",
        "\n",
        "    # Iterating inside a dataloader. \n",
        "    batchAcc = [] # for each batch \n",
        "    for X , y in trainLoader:\n",
        "\n",
        "      # Forward pass and loss \n",
        "      yHat = model(X) # applying for the data in the mini-batch\n",
        "      loss = lossfun(yHat , y) # applying for the data in the mini-batch\n",
        "\n",
        "      # Backprop \n",
        "      optimizer.zero_grad()\n",
        "      loss.backward()\n",
        "      optimizer.step()\n",
        "\n",
        "      # Compute training accuracy for the batch \n",
        "      batchAcc.append( 100*torch.mean((torch.argmax(yHat , axis = 1) == y).float()).item())\n",
        "  ## end of batch loop.....\n",
        "\n",
        "    # Now that we've trained through the mini-batches, get their average training accuracy \n",
        "    trainAcc.append(np.mean(batchAcc))\n",
        "\n",
        "    # Test accuracy \n",
        "    x , y = next(iter(testLoader)) # extract x and y \n",
        "    predLabels = torch.argmax(model(x) , axis = 1)\n",
        "    testAcc.append(100*torch.mean((predLabels == y).float()).item())\n",
        "\n",
        "  # fFunction output \n",
        "  return trainAcc , testAcc\n",
        "\n",
        "\n"
      ],
      "metadata": {
        "id": "u7W3w7fCNDDd"
      },
      "execution_count": 33,
      "outputs": []
    },
    {
      "cell_type": "code",
      "source": [
        "# create a model\n",
        "model,lossfun,optimizer = createANN()\n",
        "\n",
        "# train the model\n",
        "trainAcc,testAcc = trainTheModel()\n"
      ],
      "metadata": {
        "id": "6Wa2Vip8SBlS"
      },
      "execution_count": 34,
      "outputs": []
    },
    {
      "cell_type": "code",
      "source": [
        "# plot the results\n",
        "fig = plt.figure(figsize=(10,5))\n",
        "\n",
        "plt.plot(trainAcc,'ro-')\n",
        "plt.plot(testAcc,'bs-')\n",
        "plt.xlabel('Epochs')\n",
        "plt.ylabel('Accuracy (%)')\n",
        "plt.legend(['Train','Test'])\n",
        "\n",
        "# optional zoom-in to final epochs\n",
        "# plt.xlim([300,500])\n",
        "# plt.ylim([90,100.5])\n",
        "\n",
        "plt.show()"
      ],
      "metadata": {
        "colab": {
          "base_uri": "https://localhost:8080/",
          "height": 334
        },
        "id": "8-pbx-pRTjCd",
        "outputId": "500fe249-bb01-4d47-8320-3a107b9d60f9"
      },
      "execution_count": 35,
      "outputs": [
        {
          "output_type": "display_data",
          "data": {
            "image/png": "[encoded data removed]",
            "text/plain": [
              "<Figure size 720x360 with 1 Axes>"
            ]
          },
          "metadata": {
            "needs_background": "light"
          }
        }
      ]
    },
    {
      "cell_type": "markdown",
      "source": [
        "Before while we're not using the DataLoader our models increase in performance took place from the 200-300 epoch. But when we used a `DataLoader` here right from the 20-40 epochs our models performance seems to rise and reach nearly 100% real soon. \n",
        "\n",
        "We can see how making a minor changes leads to greater efficiency on training the models."
      ],
      "metadata": {
        "id": "4lDbhlJCToKL"
      }
    },
    {
      "cell_type": "markdown",
      "source": [
        "## Splitting the data into train, dev and test set. "
      ],
      "metadata": {
        "id": "z_jzvGxTUZw9"
      }
    },
    {
      "cell_type": "code",
      "source": [
        "fakeData , fakeLabels"
      ],
      "metadata": {
        "colab": {
          "base_uri": "https://localhost:8080/"
        },
        "id": "SDttieppz1yQ",
        "outputId": "fcff6bca-ef46-4fb9-91c8-60209d8acb9f"
      },
      "execution_count": 36,
      "outputs": [
        {
          "output_type": "execute_result",
          "data": {
            "text/plain": [
              "(array([[ 11,  12,  13,  14],\n",
              "        [ 21,  22,  23,  24],\n",
              "        [ 31,  32,  33,  34],\n",
              "        [ 41,  42,  43,  44],\n",
              "        [ 51,  52,  53,  54],\n",
              "        [ 61,  62,  63,  64],\n",
              "        [ 71,  72,  73,  74],\n",
              "        [ 81,  82,  83,  84],\n",
              "        [ 91,  92,  93,  94],\n",
              "        [101, 102, 103, 104]]),\n",
              " array([False, False, False, False, False,  True,  True,  True,  True,\n",
              "         True]))"
            ]
          },
          "metadata": {},
          "execution_count": 36
        }
      ]
    },
    {
      "cell_type": "markdown",
      "source": [
        "Will use the `train_test_split` where we specify the partitions that has to be done. \n",
        "- Firstly split the data into train and test set. \n",
        "- From the above test set make two splits namely dev and test set. "
      ],
      "metadata": {
        "id": "aezpk4Bm0kbz"
      }
    },
    {
      "cell_type": "code",
      "source": [
        "# Order of the partition is train, dev and test set \n",
        "partitions = [.8 , .1 , .1]\n",
        "\n",
        "# Split the data (train and temporary test set )\n",
        "train_data , testTMP_data, train_labels , testTMP_labels = train_test_split(fakeData , fakeLabels , \n",
        "                                                                            train_size = partitions[0])\n",
        "\n",
        "# Now specifying the split \n",
        "# if we used the above partition we will get an error, as there is only two samples in our test set so its impossible to split 10% from it\n",
        "# So we divide the dev set by the sum of dev and test set -> this gives us the half remains \n",
        "split = partitions[1] / np.sum(partitions[1:])\n",
        "devset_data , test_data , devset_labels , test_labels = train_test_split(testTMP_data , testTMP_labels , \n",
        "                                                                         train_size = split)\n",
        "\n",
        "# Printing out the shapes \n",
        "\n",
        "print(f'Train data: {train_data.shape}')\n",
        "print(f'Train labels: {train_labels.shape}')\n",
        "print('\\n')\n",
        "\n",
        "print(f'Dev data: {devset_data.shape}')\n",
        "print(f'Dev labels: {devset_labels.shape}')\n",
        "print('\\n')\n",
        "\n",
        "print(f'Test data: {test_data.shape}')\n",
        "print(f'Test labels: {test_labels.shape}')"
      ],
      "metadata": {
        "colab": {
          "base_uri": "https://localhost:8080/"
        },
        "id": "pguGmbKO0uE8",
        "outputId": "2f29f650-a52b-4964-ffe9-95ef8944a3e9"
      },
      "execution_count": 37,
      "outputs": [
        {
          "output_type": "stream",
          "name": "stdout",
          "text": [
            "Train data: (8, 4)\n",
            "Train labels: (8,)\n",
            "\n",
            "\n",
            "Dev data: (1, 4)\n",
            "Dev labels: (1,)\n",
            "\n",
            "\n",
            "Test data: (1, 4)\n",
            "Test labels: (1,)\n"
          ]
        }
      ]
    },
    {
      "cell_type": "markdown",
      "source": [
        "## Cross validation on regression "
      ],
      "metadata": {
        "id": "UfUYx4133c9H"
      }
    },
    {
      "cell_type": "code",
      "source": [
        "N = 100 \n",
        "x = torch.randn(N , 1)\n",
        "y = x + torch.randn(N ,1)\n",
        "\n",
        "# Plot \n",
        "plt.plot(x ,y , 's')\n",
        "plt.show()"
      ],
      "metadata": {
        "id": "_jvmxsFG6GXB",
        "colab": {
          "base_uri": "https://localhost:8080/",
          "height": 265
        },
        "outputId": "b3fe4164-35b7-483c-979a-a7960dbf6f10"
      },
      "execution_count": 38,
      "outputs": [
        {
          "output_type": "display_data",
          "data": {
            "image/png": "[encoded data removed]",
            "text/plain": [
              "<Figure size 432x288 with 1 Axes>"
            ]
          },
          "metadata": {
            "needs_background": "light"
          }
        }
      ]
    },
    {
      "cell_type": "code",
      "source": [
        " # A Continous model\n",
        "ANNreg = nn.Sequential(\n",
        "    nn.Linear(1 , 1), \n",
        "    nn.ReLU(),\n",
        "    nn.Linear(1 , 1)\n",
        ")\n",
        "\n",
        "learningRate = .05\n",
        "lossfun = nn.MSELoss()\n",
        "optimizer = torch.optim.SGD(ANNreg.parameters() , lr = learningRate)\n",
        "\n",
        "# Select the data for training \n",
        "trainIdx = np.random.choice(range(N) , 80 , replace = False) # random indices\n",
        "\n",
        "# Initialize vector of Falses \n",
        "trainBool = np.zeros(N , dtype = bool) \n",
        "\n",
        "# With the random indices select the samples that set to be True\n",
        "trainBool[trainIdx] = True \n",
        "\n",
        "\n",
        "# Show the sizes \n",
        "print(x[trainBool].shape)\n",
        "print(x[~trainBool].shape)"
      ],
      "metadata": {
        "colab": {
          "base_uri": "https://localhost:8080/"
        },
        "id": "WESqOsJ29oX2",
        "outputId": "bcc99fdd-5f1d-4485-99ad-cefd7ebd633e"
      },
      "execution_count": 39,
      "outputs": [
        {
          "output_type": "stream",
          "name": "stdout",
          "text": [
            "torch.Size([80, 1])\n",
            "torch.Size([20, 1])\n"
          ]
        }
      ]
    },
    {
      "cell_type": "code",
      "source": [
        "# Training loop \n",
        "numepochs = 500 \n",
        "for epoch in range(numepochs):\n",
        "\n",
        "  # Forward pass \n",
        "  yHat = ANNreg(x[trainBool])\n",
        "\n",
        "  # Loss function \n",
        "  loss = lossfun(yHat , y[trainBool])\n",
        "\n",
        "  # Backward pass \n",
        "  optimizer.zero_grad()\n",
        "  loss.backward()\n",
        "  optimizer.step()\n",
        "\n"
      ],
      "metadata": {
        "id": "iEYS7olC-OXa"
      },
      "execution_count": 40,
      "outputs": []
    },
    {
      "cell_type": "code",
      "source": [
        "# Compute losses on the test set \n",
        "predYTest= ANNreg(x[~trainBool])\n",
        "testLoss = (predYTest - y[~trainBool]).pow(2).mean()\n",
        "\n",
        "# print out the finall train loss and test loss \n",
        "print(loss.detach()) # final step of the training\n",
        "print('\\n')\n",
        "print(testLoss.detach())"
      ],
      "metadata": {
        "colab": {
          "base_uri": "https://localhost:8080/"
        },
        "id": "xI3rmNnr_Yh-",
        "outputId": "cad7f1c0-22bf-40e3-edbe-f18e2109cce0"
      },
      "execution_count": 41,
      "outputs": [
        {
          "output_type": "stream",
          "name": "stdout",
          "text": [
            "tensor(0.8369)\n",
            "\n",
            "\n",
            "tensor(0.6891)\n"
          ]
        }
      ]
    },
    {
      "cell_type": "code",
      "source": [
        "### plot the data\n",
        "\n",
        "# predictions for final training run\n",
        "predYtrain = ANNreg(x[trainBool]).detach().numpy()\n",
        "\n",
        "# now plot\n",
        "plt.plot(x,y,'k^',label='All data')\n",
        "plt.plot(x[trainBool], predYtrain,\n",
        "         'bs',markerfacecolor='w',label='Training pred.')\n",
        "plt.plot(x[~trainBool],predYTest.detach(),\n",
        "         'ro',markerfacecolor='w',label='Test pred.')\n",
        "plt.legend()\n",
        "plt.show()"
      ],
      "metadata": {
        "colab": {
          "base_uri": "https://localhost:8080/",
          "height": 265
        },
        "id": "xiKFQhoU_2AM",
        "outputId": "95a7b934-1a66-4731-dd10-3330b3929129"
      },
      "execution_count": 43,
      "outputs": [
        {
          "output_type": "display_data",
          "data": {
            "image/png": "[encoded data removed]",
            "text/plain": [
              "<Figure size 432x288 with 1 Axes>"
            ]
          },
          "metadata": {
            "needs_background": "light"
          }
        }
      ]
    },
    {
      "cell_type": "code",
      "source": [
        ""
      ],
      "metadata": {
        "id": "wVV_W9QKDt4G"
      },
      "execution_count": null,
      "outputs": []
    }
  ]
}