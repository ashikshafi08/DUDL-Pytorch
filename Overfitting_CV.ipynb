{
  "nbformat": 4,
  "nbformat_minor": 0,
  "metadata": {
    "colab": {
      "name": "Overfitting_CV.ipynb",
      "provenance": [],
      "collapsed_sections": [],
      "authorship_tag": "ABX9TyMh7T8D3pUsJxLNOwGvOJan",
      "include_colab_link": true
    },
    "kernelspec": {
      "name": "python3",
      "display_name": "Python 3"
    },
    "language_info": {
      "name": "python"
    }
  },
  "cells": [
    {
      "cell_type": "markdown",
      "metadata": {
        "id": "view-in-github",
        "colab_type": "text"
      },
      "source": [
        "<a href=\"https://colab.research.google.com/github/ashikshafi08/DUDL-Pytorch/blob/main/Overfitting_CV.ipynb\" target=\"_parent\"><img src=\"https://colab.research.google.com/assets/colab-badge.svg\" alt=\"Open In Colab\"/></a>"
      ]
    },
    {
      "cell_type": "code",
      "execution_count": 1,
      "metadata": {
        "id": "awdjdE-5u2-z"
      },
      "outputs": [],
      "source": [
        "import pandas as pd \n",
        "import numpy as np \n",
        "from sklearn.model_selection import train_test_split \n",
        "\n",
        "import torch \n",
        "import torch.nn as nn \n"
      ]
    },
    {
      "cell_type": "markdown",
      "source": [
        "## Cross Validation - Manual separation \n",
        "\n",
        "- How to implement cv manually using Numpy.\n",
        "- How to perform CV on iris dataset. "
      ],
      "metadata": {
        "id": "4IiY1HG8vgc8"
      }
    },
    {
      "cell_type": "code",
      "source": [
        "# Downloading the iris dataset \n",
        "import seaborn as sns \n",
        "iris = sns.load_dataset('iris')\n",
        "\n",
        "# COnvert from pandas df to tensor\n",
        "data = torch.tensor( iris[iris.columns[0:4]].values).float()\n",
        "\n",
        "# Transform species to number \n",
        "labels = torch.zeros(len(data) , dtype = torch.long)\n",
        "labels[iris.species == 'versicolor'] = 1\n",
        "labels[iris.species == 'virginica'] = 2 \n",
        "\n",
        "data.shape , labels.shape"
      ],
      "metadata": {
        "colab": {
          "base_uri": "https://localhost:8080/"
        },
        "id": "ytoehCPG14UB",
        "outputId": "551764cf-85ae-4489-8d7c-b1341c299cae"
      },
      "execution_count": 2,
      "outputs": [
        {
          "output_type": "execute_result",
          "data": {
            "text/plain": [
              "(torch.Size([150, 4]), torch.Size([150]))"
            ]
          },
          "metadata": {},
          "execution_count": 2
        }
      ]
    },
    {
      "cell_type": "markdown",
      "source": [
        "Here we will seperate the data into train and test set we won't be using the validation set here. "
      ],
      "metadata": {
        "id": "1Xv24Bup14Wt"
      }
    },
    {
      "cell_type": "code",
      "source": [
        "# Splitting the data\n",
        "\n",
        "# How many training examples? \n",
        "trainProp = .8 # not percentage, in proportion\n",
        "nTraining = int(len(labels) *trainProp)\n",
        "\n",
        "# Initialize a boolean vector to select data and labels \n",
        "trainTestBool = np.zeros(len(labels) , dtype = bool)\n",
        "\n",
        "# Setting the first N samples to be True (so we can consider as training)\n",
        "trainTestBool[range(nTraining)] = True \n",
        "\n",
        "trainTestBool"
      ],
      "metadata": {
        "colab": {
          "base_uri": "https://localhost:8080/"
        },
        "id": "4zppO4UL14u9",
        "outputId": "550d258b-a05e-4c5c-81a5-2ef213bd6e19"
      },
      "execution_count": 3,
      "outputs": [
        {
          "output_type": "execute_result",
          "data": {
            "text/plain": [
              "array([ True,  True,  True,  True,  True,  True,  True,  True,  True,\n",
              "        True,  True,  True,  True,  True,  True,  True,  True,  True,\n",
              "        True,  True,  True,  True,  True,  True,  True,  True,  True,\n",
              "        True,  True,  True,  True,  True,  True,  True,  True,  True,\n",
              "        True,  True,  True,  True,  True,  True,  True,  True,  True,\n",
              "        True,  True,  True,  True,  True,  True,  True,  True,  True,\n",
              "        True,  True,  True,  True,  True,  True,  True,  True,  True,\n",
              "        True,  True,  True,  True,  True,  True,  True,  True,  True,\n",
              "        True,  True,  True,  True,  True,  True,  True,  True,  True,\n",
              "        True,  True,  True,  True,  True,  True,  True,  True,  True,\n",
              "        True,  True,  True,  True,  True,  True,  True,  True,  True,\n",
              "        True,  True,  True,  True,  True,  True,  True,  True,  True,\n",
              "        True,  True,  True,  True,  True,  True,  True,  True,  True,\n",
              "        True,  True,  True, False, False, False, False, False, False,\n",
              "       False, False, False, False, False, False, False, False, False,\n",
              "       False, False, False, False, False, False, False, False, False,\n",
              "       False, False, False, False, False, False])"
            ]
          },
          "metadata": {},
          "execution_count": 3
        }
      ]
    },
    {
      "cell_type": "markdown",
      "source": [
        "If its True then it means the data is exposed to the training set and with False it belongs tot he test set. \n",
        "\n",
        "The main concern while splitting the dataset is label imabalance and this occurs if the labels in the dataset isn't balanced well and it hugely affects our model's performance and introduce bias. "
      ],
      "metadata": {
        "id": "u3guTjsKpyJU"
      }
    },
    {
      "cell_type": "code",
      "source": [
        "# Testing whether the splitted data is balanced or not \n",
        "print('Average of full data: ')\n",
        "print(torch.mean(labels.float())) # =1 by definition \n",
        "print('\\n')\n",
        "\n",
        "print('Average on the training data: ')\n",
        "print(torch.mean(labels[trainTestBool].float())) # should be 1\n",
        "\n",
        "\n",
        "print('Average on the testing data: ') # should be 1\n",
        "print(torch.mean(labels[~trainTestBool].float())) # should be 1"
      ],
      "metadata": {
        "colab": {
          "base_uri": "https://localhost:8080/"
        },
        "id": "jc5F-MrYq9B4",
        "outputId": "3ba4fee3-6060-4eca-c3c8-99bc9091e3bd"
      },
      "execution_count": 4,
      "outputs": [
        {
          "output_type": "stream",
          "name": "stdout",
          "text": [
            "Average of full data: \n",
            "tensor(1.)\n",
            "\n",
            "\n",
            "Average on the training data: \n",
            "tensor(0.7500)\n",
            "Average on the testing data: \n",
            "tensor(2.)\n"
          ]
        }
      ]
    },
    {
      "cell_type": "code",
      "source": [
        "# Shedding some randomness! \n",
        "\n",
        "trainTestBool = np.zeros(len(labels) , dtype = bool)\n",
        "\n",
        "\n",
        "items2use4train = np.random.choice(range(len(labels)) , nTraining , replace = False)\n",
        "items2use4train"
      ],
      "metadata": {
        "colab": {
          "base_uri": "https://localhost:8080/"
        },
        "id": "DaKZOIYfrN4m",
        "outputId": "23309870-75eb-4787-f6f3-05c7f646945c"
      },
      "execution_count": 5,
      "outputs": [
        {
          "output_type": "execute_result",
          "data": {
            "text/plain": [
              "array([ 47,  61, 129,  43,  66,  65,  96,  34,  46,  69,  57, 107,  36,\n",
              "        78,  75,  80, 145, 115,  22,  84,  67,  56, 105,  25,  91,  49,\n",
              "        72,  16, 111,  24,  30,  21,  32,  83,  74,  19,  14, 128,  17,\n",
              "        23, 148, 118,  97, 103, 113, 149, 139, 123,  99,  90,  40,   6,\n",
              "       120,  35,   9,  71,  59,  18,  38,  60,  52,  53,  64,  85, 130,\n",
              "       108, 132, 133,  86, 131,  41,  39,  92,  51, 144,  54,  81, 110,\n",
              "       106, 143, 136,   4,  76, 124, 119,  26,   1,  93,  87,  77,  15,\n",
              "       122, 138,   8, 101,  95,  82, 117,  12,  13, 114, 104,  88,   3,\n",
              "       102,  31,  89, 116,  98, 146,  10,   2,  70, 140,  20,  48, 121,\n",
              "        33, 112,  42])"
            ]
          },
          "metadata": {},
          "execution_count": 5
        }
      ]
    },
    {
      "cell_type": "code",
      "source": [
        "# Now for the above indexes we set the values to be True , that is training set \n",
        "trainTestBool[items2use4train] = True \n",
        "trainTestBool"
      ],
      "metadata": {
        "colab": {
          "base_uri": "https://localhost:8080/"
        },
        "id": "Df_Scn-ctMNS",
        "outputId": "e6cae20e-535b-4386-8cee-36d67a6e2d1d"
      },
      "execution_count": 6,
      "outputs": [
        {
          "output_type": "execute_result",
          "data": {
            "text/plain": [
              "array([False,  True,  True,  True,  True, False,  True, False,  True,\n",
              "        True,  True, False,  True,  True,  True,  True,  True,  True,\n",
              "        True,  True,  True,  True,  True,  True,  True,  True,  True,\n",
              "       False, False, False,  True,  True,  True,  True,  True,  True,\n",
              "        True, False,  True,  True,  True,  True,  True,  True, False,\n",
              "       False,  True,  True,  True,  True, False,  True,  True,  True,\n",
              "        True, False,  True,  True, False,  True,  True,  True, False,\n",
              "       False,  True,  True,  True,  True, False,  True,  True,  True,\n",
              "        True, False,  True,  True,  True,  True,  True, False,  True,\n",
              "        True,  True,  True,  True,  True,  True,  True,  True,  True,\n",
              "        True,  True,  True,  True, False,  True,  True,  True,  True,\n",
              "        True, False,  True,  True,  True,  True,  True,  True,  True,\n",
              "        True, False,  True,  True,  True,  True,  True,  True,  True,\n",
              "        True,  True,  True,  True,  True,  True,  True,  True, False,\n",
              "       False, False,  True,  True,  True,  True,  True,  True, False,\n",
              "       False,  True, False,  True,  True,  True, False, False,  True,\n",
              "        True,  True,  True, False,  True,  True])"
            ]
          },
          "metadata": {},
          "execution_count": 6
        }
      ]
    },
    {
      "cell_type": "code",
      "source": [
        "  # Testing whether the splitted data is balanced or not \n",
        "print('Average of full data: ')\n",
        "print(torch.mean(labels.float())) # =1 by definition \n",
        "print('\\n')\n",
        "\n",
        "print('Average on the training data: ')\n",
        "print(torch.mean(labels[trainTestBool].float())) # should be 1\n",
        "\n",
        "\n",
        "print('Average on the testing data: ') # should be 1\n",
        "print(torch.mean(labels[~trainTestBool].float())) # should be 1"
      ],
      "metadata": {
        "colab": {
          "base_uri": "https://localhost:8080/"
        },
        "id": "YqMOqIvXtc75",
        "outputId": "20f471e7-921b-4113-c64d-c56ad85d2026"
      },
      "execution_count": 7,
      "outputs": [
        {
          "output_type": "stream",
          "name": "stdout",
          "text": [
            "Average of full data: \n",
            "tensor(1.)\n",
            "\n",
            "\n",
            "Average on the training data: \n",
            "tensor(0.9917)\n",
            "Average on the testing data: \n",
            "tensor(1.0333)\n"
          ]
        }
      ]
    },
    {
      "cell_type": "markdown",
      "source": [
        "The larger the dataset the less we need to worry about the balance in labels. "
      ],
      "metadata": {
        "id": "3nLVmXr0t6QY"
      }
    },
    {
      "cell_type": "code",
      "source": [
        " # Create the ANN model \n",
        "\n",
        "ANNiris = nn.Sequential(\n",
        "     nn.Linear(4 , 64) , \n",
        "     nn.ReLU(), \n",
        "     nn.Linear(64 , 64), \n",
        "     nn.ReLU(),\n",
        "     nn.Linear(64, 3)\n",
        " )\n",
        "\n",
        "loss_func = nn.CrossEntropyLoss()\n",
        "optimizer = torch.optim.SGD(ANNiris.parameters() , lr = .01)\n"
      ],
      "metadata": {
        "id": "ayBnLYRouEsy"
      },
      "execution_count": 8,
      "outputs": []
    },
    {
      "cell_type": "code",
      "source": [
        "# Checking the shape of our dataset \n",
        "\n",
        "print(data.shape) # entire dataset \n",
        "print(data[trainTestBool, :].shape)\n",
        "print(data[~trainTestBool, :].shape)"
      ],
      "metadata": {
        "colab": {
          "base_uri": "https://localhost:8080/"
        },
        "id": "0z8w0_NDuoFB",
        "outputId": "590b50df-eb90-4320-9cd4-9e428687b270"
      },
      "execution_count": 9,
      "outputs": [
        {
          "output_type": "stream",
          "name": "stdout",
          "text": [
            "torch.Size([150, 4])\n",
            "torch.Size([120, 4])\n",
            "torch.Size([30, 4])\n"
          ]
        }
      ]
    },
    {
      "cell_type": "code",
      "source": [
        "# Train and test the model \n",
        "numepochs = 1000 \n",
        "\n",
        "# Intialize the losses to store \n",
        "losses = torch.zeros(numepochs)\n",
        "onGoingAcc = []\n",
        "\n",
        "# Loop over the epochs \n",
        "for epoch in range(numepochs):\n",
        "\n",
        "  # Forward pass \n",
        "  yHat = ANNiris(data[trainTestBool, :])\n",
        "\n",
        "  # Compute accuracy \n",
        "  acc = 100*torch.mean((torch.argmax(yHat , axis = 1) == labels[trainTestBool]).float())\n",
        "  onGoingAcc.append(acc)\n",
        "\n",
        "  # Compute the loss \n",
        "  loss = loss_func(yHat , labels[trainTestBool])\n",
        "  losses[epoch] = loss \n",
        "\n",
        "  # Backward pass \n",
        "  optimizer.zero_grad()\n",
        "  loss.backward()\n",
        "  optimizer.step()\n",
        "\n"
      ],
      "metadata": {
        "id": "QrQfMemGvBkw"
      },
      "execution_count": 10,
      "outputs": []
    },
    {
      "cell_type": "code",
      "source": [
        "# Evaluating the test and train accuracies \n",
        "\n",
        "# Final forward pass to make predictions after making the prediction \n",
        "predictions = ANNiris(data[trainTestBool , :])\n",
        "trainAcc = 100*torch.mean((torch.argmax(predictions , axis = 1 ) == labels[trainTestBool]).float())\n",
        "\n",
        "# Final forward pass the trained model\n",
        "predictions = ANNiris(data[~trainTestBool , :])\n",
        "testAcc = 100*torch.mean((torch.argmax(predictions , axis = 1 ) == labels[~trainTestBool]).float())\n",
        "\n",
        "trainAcc , testAcc"
      ],
      "metadata": {
        "colab": {
          "base_uri": "https://localhost:8080/"
        },
        "id": "hXshaRGBxJk0",
        "outputId": "e67458a4-8194-4ea6-c3ed-b8db5f91d2ed"
      },
      "execution_count": 11,
      "outputs": [
        {
          "output_type": "execute_result",
          "data": {
            "text/plain": [
              "(tensor(98.3333), tensor(96.6667))"
            ]
          },
          "metadata": {},
          "execution_count": 11
        }
      ]
    },
    {
      "cell_type": "markdown",
      "source": [
        "## Cross Validation - Scikit-learn\n",
        "- Implement cv using the sklearn \n",
        "- Perform a parametric experiment with the fraction of train/test items."
      ],
      "metadata": {
        "id": "wBioQlLjyOpt"
      }
    },
    {
      "cell_type": "code",
      "source": [
        "from sklearn.model_selection import train_test_split"
      ],
      "metadata": {
        "id": "APHFg5ZP1zUF"
      },
      "execution_count": 12,
      "outputs": []
    },
    {
      "cell_type": "code",
      "source": [
        "# Creating fake data to test the utility \n",
        "fakeData =  np.tile(np.array([1,2,3,4]) , (10 ,1)) + np.tile(10*np.arange(1 ,11) , (4,1) ).T\n",
        "fakeLabels = np.arange(10) > 4 \n",
        "\n",
        "print(fakeData) , print('')\n",
        "print(fakeLabels)"
      ],
      "metadata": {
        "colab": {
          "base_uri": "https://localhost:8080/"
        },
        "id": "Hm05zsB5A93e",
        "outputId": "7b8e839e-c53f-43b5-8684-3e468e5f5e55"
      },
      "execution_count": 13,
      "outputs": [
        {
          "output_type": "stream",
          "name": "stdout",
          "text": [
            "[[ 11  12  13  14]\n",
            " [ 21  22  23  24]\n",
            " [ 31  32  33  34]\n",
            " [ 41  42  43  44]\n",
            " [ 51  52  53  54]\n",
            " [ 61  62  63  64]\n",
            " [ 71  72  73  74]\n",
            " [ 81  82  83  84]\n",
            " [ 91  92  93  94]\n",
            " [101 102 103 104]]\n",
            "\n",
            "[False False False False False  True  True  True  True  True]\n"
          ]
        }
      ]
    },
    {
      "cell_type": "code",
      "source": [
        "# Using the funtionality to split the data \n",
        "trainData , testData , trainLabels , testLabels = train_test_split(fakeData , fakeLabels , test_size = .2 ,\n",
        "                                                                   shuffle = False)\n",
        "\n",
        "print(f'Train data shape: {trainData.shape}')\n",
        "print(f'Test data shape: {testData.shape}')\n",
        "print(f'Train labels shape: {trainLabels.shape}')\n",
        "print(f'Test labels shape: {testLabels.shape}')"
      ],
      "metadata": {
        "colab": {
          "base_uri": "https://localhost:8080/"
        },
        "id": "5ieC4v79BSX2",
        "outputId": "31643e21-8c63-4179-c78a-da7829c7946c"
      },
      "execution_count": 14,
      "outputs": [
        {
          "output_type": "stream",
          "name": "stdout",
          "text": [
            "Train data shape: (8, 4)\n",
            "Test data shape: (2, 4)\n",
            "Train labels shape: (8,)\n",
            "Test labels shape: (2,)\n"
          ]
        }
      ]
    },
    {
      "cell_type": "code",
      "source": [
        "print(trainData)\n",
        "print('\\n')\n",
        "print(testData)"
      ],
      "metadata": {
        "colab": {
          "base_uri": "https://localhost:8080/"
        },
        "id": "Lbo0eC7BC1JP",
        "outputId": "ad10a02a-4762-46d8-8be2-498ecd7aad7c"
      },
      "execution_count": 15,
      "outputs": [
        {
          "output_type": "stream",
          "name": "stdout",
          "text": [
            "[[11 12 13 14]\n",
            " [21 22 23 24]\n",
            " [31 32 33 34]\n",
            " [41 42 43 44]\n",
            " [51 52 53 54]\n",
            " [61 62 63 64]\n",
            " [71 72 73 74]\n",
            " [81 82 83 84]]\n",
            "\n",
            "\n",
            "[[ 91  92  93  94]\n",
            " [101 102 103 104]]\n"
          ]
        }
      ]
    },
    {
      "cell_type": "code",
      "source": [
        "def createTheModel():\n",
        "\n",
        "   # Create the ANN model \n",
        "\n",
        "  ANN = nn.Sequential(\n",
        "     nn.Linear(4 , 64) , \n",
        "     nn.ReLU(), \n",
        "     nn.Linear(64 , 64), \n",
        "     nn.ReLU(),\n",
        "     nn.Linear(64, 3)\n",
        "  )\n",
        "\n",
        "  lossfun = nn.CrossEntropyLoss()\n",
        "  optimizer = torch.optim.SGD(ANN.parameters() , lr = .01)\n",
        "\n",
        "  return ANN , lossfun , optimizer\n",
        "\n",
        "\n",
        "numepochs = 200 \n",
        "\n",
        "def trainTheModel(trainProp):\n",
        "\n",
        "  # Initialize the values to store the results \n",
        "  losses = torch.zeros(numepochs)\n",
        "  trainAcc = []\n",
        "  testAcc = []\n",
        "\n",
        "  # Making the splits \n",
        "  # Inside the training loop will leads to mixing up of train and test data that leads to overfitting!\n",
        "  X_train , X_test , y_train, y_test = train_test_split(data , labels , \n",
        "                                                          train_size = trainProp)\n",
        "\n",
        "  # Loop over the epohcs \n",
        "  for epoch in range(numepochs):\n",
        "\n",
        "    # Separate the train from test data \n",
        "    # Note 1: Unique split for each epoch \n",
        "    # Note 2: here we specify the amount of training size, not testing size \n",
        "    # X_train , X_test , y_train, y_test = train_test_split(data , labels ,  train_size = trainProp)\n",
        "    \n",
        "    # Forward pass \n",
        "    yHat = ANN(X_train)\n",
        "    \n",
        "    # Compute loss \n",
        "    loss = lossfun(yHat , y_train)\n",
        "\n",
        "    # backward pass \n",
        "    optimizer.zero_grad()\n",
        "    loss.backward()\n",
        "    optimizer.step()\n",
        "\n",
        "    # Compute the training accuracy \n",
        "    trainAcc.append( 100*torch.mean((torch.argmax(yHat,axis=1) == y_train).float()).item() )\n",
        "\n",
        "\n",
        "    # Test accuracy \n",
        "    predLabels = torch.argmax(ANN(X_test) , axis = 1)\n",
        "    testAcc.append( 100*torch.mean((predLabels == y_test).float()).item() )\n",
        "\n",
        "  # Function output \n",
        "  return trainAcc, testAcc"
      ],
      "metadata": {
        "id": "rNjFN1pADMu0"
      },
      "execution_count": 16,
      "outputs": []
    },
    {
      "cell_type": "markdown",
      "source": [
        "In the above function we are making predictions on the test set inside a training loop, does it affect the results or hinder the performance? \n",
        "\n",
        "No, since we are computing the gradients and doing the backprop we only care about the training size of the model. \n"
      ],
      "metadata": {
        "id": "Jtf2oC7AD09B"
      }
    },
    {
      "cell_type": "code",
      "source": [
        "# Testing the model by running it once \n",
        "ANN , lossfun, optimizer = createTheModel()\n",
        "\n",
        "# Train the model \n",
        "# Training proportion \n",
        "trainAcc , testAcc = trainTheModel(.8)\n"
      ],
      "metadata": {
        "id": "aQChgyimGqYJ"
      },
      "execution_count": 17,
      "outputs": []
    },
    {
      "cell_type": "markdown",
      "source": [
        ""
      ],
      "metadata": {
        "id": "vzpLZOnaICoW"
      }
    },
    {
      "cell_type": "code",
      "source": [
        "# Plot the results \n",
        "import matplotlib.pyplot as plt\n",
        "\n",
        "fig = plt.figure(figsize = (10 , 5))\n",
        "\n",
        "plt.plot(trainAcc , 'ro-')\n",
        "plt.plot(testAcc , 'bs-')\n",
        "plt.xlabel('Epochs')\n",
        "plt.ylabel('Accuracy in %')\n",
        "plt.legend(['Train' , 'Test'])\n",
        "plt.show()\n",
        "\n",
        "\n"
      ],
      "metadata": {
        "colab": {
          "base_uri": "https://localhost:8080/",
          "height": 334
        },
        "id": "i4Ys72LMH6mW",
        "outputId": "50784e4c-7228-4fd2-fd09-79ae7fb08262"
      },
      "execution_count": 18,
      "outputs": [
        {
          "output_type": "display_data",
          "data": {
            "image/png": "[encoded data removed]",
            "text/plain": [
              "<Figure size 720x360 with 1 Axes>"
            ]
          },
          "metadata": {
            "needs_background": "light"
          }
        }
      ]
    },
    {
      "cell_type": "markdown",
      "source": [
        "**Running the experiments** with different train set sizes. \n",
        "\n"
      ],
      "metadata": {
        "id": "chfTHpSLI6Jf"
      }
    },
    {
      "cell_type": "code",
      "source": [
        "trainSetSizes = np.linspace(.2, .95 , 10)\n",
        "\n",
        "# Storing all the accuracies \n",
        "allTrainAcc = np.zeros((len(trainSetSizes) , numepochs))\n",
        "allTestAcc = np.zeros((len(trainSetSizes) , numepochs))\n",
        "\n",
        "for i in range(len(trainSetSizes)):\n",
        "\n",
        "  # Create a model \n",
        "  ANN , lossfun , optimizer = createTheModel()\n",
        "\n",
        "  # Train the model\n",
        "  trainAcc , testAcc = trainTheModel(trainSetSizes[i])\n",
        "\n",
        "  # Store the results \n",
        "  allTrainAcc[i, :] = trainAcc\n",
        "  allTestAcc[i , :] = testAcc\n",
        "\n"
      ],
      "metadata": {
        "id": "F45ac9d3Ypxe"
      },
      "execution_count": 19,
      "outputs": []
    },
    {
      "cell_type": "code",
      "source": [
        "fig,ax = plt.subplots(1,2,figsize=(13,5))\n",
        "\n",
        "ax[0].imshow(allTrainAcc,aspect='auto',\n",
        "             vmin=50,vmax=90, extent=[0,numepochs,trainSetSizes[-1],trainSetSizes[0]])\n",
        "ax[0].set_xlabel('Epochs')\n",
        "ax[0].set_ylabel('Training size proportion')\n",
        "ax[0].set_title('Training accuracy')\n",
        "\n",
        "p = ax[1].imshow(allTestAcc,aspect='auto',\n",
        "             vmin=50,vmax=90, extent=[0,numepochs,trainSetSizes[-1],trainSetSizes[0]])\n",
        "ax[1].set_xlabel('Epochs')\n",
        "ax[1].set_ylabel('Training size proportion')\n",
        "ax[1].set_title('Test accuracy')\n",
        "fig.colorbar(p,ax=ax[1])\n",
        "\n",
        "plt.show()"
      ],
      "metadata": {
        "colab": {
          "base_uri": "https://localhost:8080/",
          "height": 350
        },
        "id": "fdLCFopWYvKg",
        "outputId": "6cd146be-2922-46a6-d408-9ed9fd2b28cd"
      },
      "execution_count": 20,
      "outputs": [
        {
          "output_type": "display_data",
          "data": {
            "image/png": "[encoded data removed]",
            "text/plain": [
              "<Figure size 936x360 with 3 Axes>"
            ]
          },
          "metadata": {
            "needs_background": "light"
          }
        }
      ]
    },
    {
      "cell_type": "markdown",
      "source": [
        "In here the dataset is too small to draw any firm conclusions about the relationship between the training proportion and overall accuracy. "
      ],
      "metadata": {
        "id": "E7pl5Pk6Zo7u"
      }
    },
    {
      "cell_type": "code",
      "source": [
        ""
      ],
      "metadata": {
        "id": "QvLZi-9kaGI1"
      },
      "execution_count": 20,
      "outputs": []
    }
  ]
}